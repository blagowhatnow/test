{
 "cells": [
  {
   "cell_type": "code",
   "execution_count": 1,
   "metadata": {},
   "outputs": [],
   "source": [
    "import numpy as np\n",
    "import matplotlib.pyplot as plt\n",
    "import pandas as pd\n",
    "from sklearn.svm import SVR\n",
    "from sklearn.pipeline import make_pipeline\n",
    "from sklearn.preprocessing import StandardScaler"
   ]
  },
  {
   "cell_type": "code",
   "execution_count": 2,
   "metadata": {},
   "outputs": [],
   "source": [
    "df=pd.read_csv(\"LTC_USD_1H.csv\").iloc[::-1]"
   ]
  },
  {
   "cell_type": "code",
   "execution_count": 3,
   "metadata": {
    "scrolled": false
   },
   "outputs": [
    {
     "data": {
      "text/html": [
       "<div>\n",
       "<style scoped>\n",
       "    .dataframe tbody tr th:only-of-type {\n",
       "        vertical-align: middle;\n",
       "    }\n",
       "\n",
       "    .dataframe tbody tr th {\n",
       "        vertical-align: top;\n",
       "    }\n",
       "\n",
       "    .dataframe thead th {\n",
       "        text-align: right;\n",
       "    }\n",
       "</style>\n",
       "<table border=\"1\" class=\"dataframe\">\n",
       "  <thead>\n",
       "    <tr style=\"text-align: right;\">\n",
       "      <th></th>\n",
       "      <th>Unix Timestamp</th>\n",
       "      <th>Date</th>\n",
       "      <th>Open</th>\n",
       "      <th>High</th>\n",
       "      <th>Low</th>\n",
       "      <th>Close</th>\n",
       "      <th>Volume</th>\n",
       "    </tr>\n",
       "  </thead>\n",
       "  <tbody>\n",
       "    <tr>\n",
       "      <th>13759</th>\n",
       "      <td>1.539690e+12</td>\n",
       "      <td>16-10-2018 13.00</td>\n",
       "      <td>0.00</td>\n",
       "      <td>55.20</td>\n",
       "      <td>0.00</td>\n",
       "      <td>54.60</td>\n",
       "      <td>1770.339385</td>\n",
       "    </tr>\n",
       "    <tr>\n",
       "      <th>13758</th>\n",
       "      <td>1.539700e+12</td>\n",
       "      <td>16-10-2018 14.00</td>\n",
       "      <td>54.60</td>\n",
       "      <td>54.69</td>\n",
       "      <td>53.84</td>\n",
       "      <td>53.84</td>\n",
       "      <td>1005.899443</td>\n",
       "    </tr>\n",
       "    <tr>\n",
       "      <th>13757</th>\n",
       "      <td>1.539700e+12</td>\n",
       "      <td>16-10-2018 15.00</td>\n",
       "      <td>53.84</td>\n",
       "      <td>54.00</td>\n",
       "      <td>53.59</td>\n",
       "      <td>53.67</td>\n",
       "      <td>599.428332</td>\n",
       "    </tr>\n",
       "    <tr>\n",
       "      <th>13756</th>\n",
       "      <td>1.539710e+12</td>\n",
       "      <td>16-10-2018 16.00</td>\n",
       "      <td>53.67</td>\n",
       "      <td>53.67</td>\n",
       "      <td>52.83</td>\n",
       "      <td>52.88</td>\n",
       "      <td>414.829717</td>\n",
       "    </tr>\n",
       "    <tr>\n",
       "      <th>13755</th>\n",
       "      <td>1.539710e+12</td>\n",
       "      <td>16-10-2018 17.00</td>\n",
       "      <td>52.88</td>\n",
       "      <td>53.01</td>\n",
       "      <td>52.77</td>\n",
       "      <td>52.95</td>\n",
       "      <td>177.732171</td>\n",
       "    </tr>\n",
       "    <tr>\n",
       "      <th>...</th>\n",
       "      <td>...</td>\n",
       "      <td>...</td>\n",
       "      <td>...</td>\n",
       "      <td>...</td>\n",
       "      <td>...</td>\n",
       "      <td>...</td>\n",
       "      <td>...</td>\n",
       "    </tr>\n",
       "    <tr>\n",
       "      <th>4</th>\n",
       "      <td>1.589230e+12</td>\n",
       "      <td>11-05-2020 20.00</td>\n",
       "      <td>41.44</td>\n",
       "      <td>41.72</td>\n",
       "      <td>41.25</td>\n",
       "      <td>41.52</td>\n",
       "      <td>1107.153060</td>\n",
       "    </tr>\n",
       "    <tr>\n",
       "      <th>3</th>\n",
       "      <td>1.589230e+12</td>\n",
       "      <td>11-05-2020 21.00</td>\n",
       "      <td>41.52</td>\n",
       "      <td>41.91</td>\n",
       "      <td>40.95</td>\n",
       "      <td>41.26</td>\n",
       "      <td>320.621160</td>\n",
       "    </tr>\n",
       "    <tr>\n",
       "      <th>2</th>\n",
       "      <td>1.589230e+12</td>\n",
       "      <td>11-05-2020 22.00</td>\n",
       "      <td>41.26</td>\n",
       "      <td>41.56</td>\n",
       "      <td>41.14</td>\n",
       "      <td>41.39</td>\n",
       "      <td>474.191390</td>\n",
       "    </tr>\n",
       "    <tr>\n",
       "      <th>1</th>\n",
       "      <td>1.589240e+12</td>\n",
       "      <td>11-05-2020 23.00</td>\n",
       "      <td>41.39</td>\n",
       "      <td>41.89</td>\n",
       "      <td>41.17</td>\n",
       "      <td>41.70</td>\n",
       "      <td>261.744940</td>\n",
       "    </tr>\n",
       "    <tr>\n",
       "      <th>0</th>\n",
       "      <td>1.589240e+12</td>\n",
       "      <td>12-05-2020 0.00</td>\n",
       "      <td>41.70</td>\n",
       "      <td>41.70</td>\n",
       "      <td>41.70</td>\n",
       "      <td>41.70</td>\n",
       "      <td>0.000000</td>\n",
       "    </tr>\n",
       "  </tbody>\n",
       "</table>\n",
       "<p>13760 rows × 7 columns</p>\n",
       "</div>"
      ],
      "text/plain": [
       "       Unix Timestamp              Date   Open   High    Low  Close  \\\n",
       "13759    1.539690e+12  16-10-2018 13.00   0.00  55.20   0.00  54.60   \n",
       "13758    1.539700e+12  16-10-2018 14.00  54.60  54.69  53.84  53.84   \n",
       "13757    1.539700e+12  16-10-2018 15.00  53.84  54.00  53.59  53.67   \n",
       "13756    1.539710e+12  16-10-2018 16.00  53.67  53.67  52.83  52.88   \n",
       "13755    1.539710e+12  16-10-2018 17.00  52.88  53.01  52.77  52.95   \n",
       "...               ...               ...    ...    ...    ...    ...   \n",
       "4        1.589230e+12  11-05-2020 20.00  41.44  41.72  41.25  41.52   \n",
       "3        1.589230e+12  11-05-2020 21.00  41.52  41.91  40.95  41.26   \n",
       "2        1.589230e+12  11-05-2020 22.00  41.26  41.56  41.14  41.39   \n",
       "1        1.589240e+12  11-05-2020 23.00  41.39  41.89  41.17  41.70   \n",
       "0        1.589240e+12   12-05-2020 0.00  41.70  41.70  41.70  41.70   \n",
       "\n",
       "            Volume  \n",
       "13759  1770.339385  \n",
       "13758  1005.899443  \n",
       "13757   599.428332  \n",
       "13756   414.829717  \n",
       "13755   177.732171  \n",
       "...            ...  \n",
       "4      1107.153060  \n",
       "3       320.621160  \n",
       "2       474.191390  \n",
       "1       261.744940  \n",
       "0         0.000000  \n",
       "\n",
       "[13760 rows x 7 columns]"
      ]
     },
     "execution_count": 3,
     "metadata": {},
     "output_type": "execute_result"
    }
   ],
   "source": [
    "df"
   ]
  },
  {
   "cell_type": "code",
   "execution_count": 4,
   "metadata": {
    "scrolled": true
   },
   "outputs": [
    {
     "data": {
      "text/plain": [
       "[<matplotlib.lines.Line2D at 0x11659ce50>]"
      ]
     },
     "execution_count": 4,
     "metadata": {},
     "output_type": "execute_result"
    },
    {
     "data": {
      "image/png": "[encoded data removed]",
      "text/plain": [
       "<Figure size 432x288 with 1 Axes>"
      ]
     },
     "metadata": {
      "needs_background": "light"
     },
     "output_type": "display_data"
    }
   ],
   "source": [
    "plt.plot(df[\"Close\"])"
   ]
  },
  {
   "cell_type": "code",
   "execution_count": 5,
   "metadata": {},
   "outputs": [],
   "source": [
    "yvals=np.array(df[\"Close\"])\n",
    "xvals=np.arange(0,yvals.shape[0])"
   ]
  },
  {
   "cell_type": "code",
   "execution_count": 6,
   "metadata": {},
   "outputs": [],
   "source": [
    "coins=200\n",
    "cash=50000"
   ]
  },
  {
   "cell_type": "code",
   "execution_count": 7,
   "metadata": {},
   "outputs": [],
   "source": [
    "preds=[]\n",
    "preds.append(yvals[0])\n",
    "preds.append(yvals[1])\n",
    "preds.append(yvals[2])\n",
    "preds.append(yvals[3])"
   ]
  },
  {
   "cell_type": "code",
   "execution_count": 8,
   "metadata": {
    "scrolled": true
   },
   "outputs": [],
   "source": [
    "import warnings\n",
    "\n",
    "warnings.filterwarnings(\"ignore\")\n",
    "\n",
    "for i in np.arange(3,np.array(df[\"Close\"]).shape[0],1):\n",
    "    x_pairs=[]\n",
    "    y_pairs=[]\n",
    "    \n",
    "    x_pairs.append(xvals[i-3])\n",
    "    x_pairs.append(xvals[i-2])\n",
    "    x_pairs.append(xvals[i-1])\n",
    "    x_pairs.append(xvals[i])\n",
    "    \n",
    "    y_pairs.append(yvals[i-3])\n",
    "    y_pairs.append(yvals[i-2])\n",
    "    y_pairs.append(yvals[i-1])\n",
    "    y_pairs.append(xvals[i])\n",
    "    \n",
    "    x_pairs=np.array(x_pairs).reshape(-1,1)\n",
    "    y_pairs=np.array(y_pairs).reshape(-1,1)\n",
    "    \n",
    "    if i<np.array(df[\"Close\"]).shape[0]-1:\n",
    "        \n",
    "        regression = make_pipeline(StandardScaler(), SVR(C=1.0, epsilon=0.2))\n",
    "        \n",
    "        regression.fit(x_pairs, y_pairs)\n",
    "        \n",
    "        pred=regression.predict(np.array([xvals[i+1]]).reshape(-1,1))\n",
    "        \n",
    "        preds.append(pred)\n",
    "        \n",
    "        if pred-yvals[i]>0:\n",
    "            \n",
    "            if coins==200:\n",
    "                \n",
    "                pass\n",
    "            \n",
    "            else:\n",
    "                \n",
    "                coins=200\n",
    "                cash=cash-(200*yvals[i]) \n",
    "        \n",
    "        else:\n",
    "            \n",
    "            if coins==200:\n",
    "                \n",
    "                coins=0\n",
    "                cash=cash+(200*yvals[i])\n",
    "                \n",
    "            else:\n",
    "                \n",
    "                pass\n",
    "                \n",
    "    else:\n",
    "        \n",
    "        pass"
   ]
  },
  {
   "cell_type": "code",
   "execution_count": 9,
   "metadata": {},
   "outputs": [
    {
     "data": {
      "text/plain": [
       "78460.0"
      ]
     },
     "execution_count": 9,
     "metadata": {},
     "output_type": "execute_result"
    }
   ],
   "source": [
    "cash"
   ]
  },
  {
   "cell_type": "code",
   "execution_count": 10,
   "metadata": {},
   "outputs": [
    {
     "data": {
      "text/plain": [
       "200"
      ]
     },
     "execution_count": 10,
     "metadata": {},
     "output_type": "execute_result"
    }
   ],
   "source": [
    "coins"
   ]
  },
  {
   "cell_type": "code",
   "execution_count": 11,
   "metadata": {},
   "outputs": [
    {
     "data": {
      "text/plain": [
       "5091.999999999999"
      ]
     },
     "execution_count": 11,
     "metadata": {},
     "output_type": "execute_result"
    }
   ],
   "source": [
    "(max(df['Close'])-df['Close'][0])*50"
   ]
  }
 ],
 "metadata": {
  "kernelspec": {
   "display_name": "Python 3",
   "language": "python",
   "name": "python3"
  },
  "language_info": {
   "codemirror_mode": {
    "name": "ipython",
    "version": 3
   },
   "file_extension": ".py",
   "mimetype": "text/x-python",
   "name": "python",
   "nbconvert_exporter": "python",
   "pygments_lexer": "ipython3",
   "version": "3.8.5"
  }
 },
 "nbformat": 4,
 "nbformat_minor": 2
}
