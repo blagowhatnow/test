{
 "cells": [
  {
   "cell_type": "code",
   "execution_count": 3,
   "metadata": {},
   "outputs": [],
   "source": [
    "#Classify antimicrobial peptides\n",
    "#Data and paper https://bmcbioinformatics.biomedcentral.com/articles/10.1186/s12859-019-3327-y\n",
    "\n",
    "import numpy as np\n",
    "import pandas as pd\n",
    "import keras\n",
    "from keras.preprocessing.sequence import pad_sequences"
   ]
  },
  {
   "cell_type": "code",
   "execution_count": 26,
   "metadata": {},
   "outputs": [],
   "source": [
    "from Bio import SeqIO\n",
    "import numpy as np \n",
    "\n",
    "positives_train=[]\n",
    "negatives_train=[]\n",
    "positives_test=[]\n",
    "negatives_test=[]\n",
    "positives_eval=[]\n",
    "negatives_eval=[]\n",
    "\n",
    "for seq_record in SeqIO.parse('AMP.tr.fa', \"fasta\"):\n",
    "    \n",
    "    positives_train.append(str(seq_record.seq))\n",
    "    \n",
    "for seq_record in SeqIO.parse('DECOY.tr.fa', \"fasta\"):\n",
    "    \n",
    "    negatives_train.append(str(seq_record.seq))\n",
    "    \n",
    "for seq_record in SeqIO.parse('DECOY.te.fa', \"fasta\"):\n",
    "    \n",
    "    negatives_test.append(str(seq_record.seq)) \n",
    "    \n",
    "for seq_record in SeqIO.parse('AMP.te.fa', \"fasta\"):\n",
    "    \n",
    "    positives_test.append(str(seq_record.seq))\n",
    "    \n",
    "for seq_record in SeqIO.parse('DECOY.eval.fa', \"fasta\"):\n",
    "    \n",
    "    negatives_eval.append(str(seq_record.seq)) \n",
    "    \n",
    "for seq_record in SeqIO.parse('AMP.eval.fa', \"fasta\"):\n",
    "    \n",
    "    positives_eval.append(str(seq_record.seq))    \n",
    "    \n",
    "    \n",
    "X_train=list(positives_train+negatives_train)\n",
    "X_train=np.array(X_train)\n",
    "\n",
    "y_train=list(np.ones(np.array(positives_train).shape[0]))+list(np.zeros(np.array(negatives_train).shape[0]))\n",
    "y_train=np.array(y_train)\n",
    "\n",
    "X_test=list(positives_test+negatives_test)\n",
    "X_test=np.array(X_test)\n",
    "\n",
    "y_test=list(np.ones(np.array(positives_test).shape[0]))+list(np.zeros(np.array(negatives_test).shape[0]))\n",
    "y_test=np.array(y_test)\n",
    "\n",
    "X_eval=list(positives_eval+negatives_eval)\n",
    "X_eval=np.array(X_eval)\n",
    "\n",
    "y_eval=list(np.ones(np.array(positives_eval).shape[0]))+list(np.zeros(np.array(negatives_eval).shape[0]))\n",
    "y_eval=np.array(y_eval)\n",
    "    "
   ]
  },
  {
   "cell_type": "code",
   "execution_count": 17,
   "metadata": {},
   "outputs": [],
   "source": [
    "import numpy as np\n",
    "import re\n",
    "def string_to_array(my_string):\n",
    "    my_string = my_string.lower()\n",
    "    my_string = re.sub('[^arndcqeghilkmfpstwyvx]', 'z', my_string)\n",
    "    my_array = np.array(list(my_string))\n",
    "    return my_array\n",
    "\n",
    "# create a label encoder with alphabet\n",
    "from sklearn.preprocessing import LabelEncoder\n",
    "label_encoder = LabelEncoder()\n",
    "label_encoder.fit(np.array(['a','r','n','d','c','q','e','g','h','i','l','k','m','f','p','s','t','w','y','v','x','z']))\n",
    "\n",
    "def ordinal_encoder(my_array):\n",
    "    integer_encoded = label_encoder.transform(my_array)\n",
    "    float_encoded = integer_encoded.astype(float)\n",
    "    float_encoded[float_encoded == 0] = 1.25 # A\n",
    "    float_encoded[float_encoded == 1] = 2.50 # R\n",
    "    float_encoded[float_encoded == 2] = 3.75 # N\n",
    "    float_encoded[float_encoded == 3] = 4.30 # D\n",
    "    float_encoded[float_encoded == 4] = 5.45 # C\n",
    "    float_encoded[float_encoded == 5] = 6.35 # Q\n",
    "    float_encoded[float_encoded == 6] = 7.85 # E \n",
    "    float_encoded[float_encoded == 7] = 8.65 # G\n",
    "    float_encoded[float_encoded == 8] = 9.95 # H\n",
    "    float_encoded[float_encoded == 9] = 11.25 # I\n",
    "    float_encoded[float_encoded == 10] = 12.55 # L\n",
    "    float_encoded[float_encoded == 11] = 13.15 # K\n",
    "    float_encoded[float_encoded == 12] = 14.11 # L\n",
    "    float_encoded[float_encoded == 13] = 15.29 # K\n",
    "    float_encoded[float_encoded == 14] = 16.39 # M\n",
    "    float_encoded[float_encoded == 15] = 17.05 # F\n",
    "    float_encoded[float_encoded == 16] = 18.09 # P\n",
    "    float_encoded[float_encoded == 17] = 19.49 # S\n",
    "    float_encoded[float_encoded == 18] = 20.79 # T\n",
    "    float_encoded[float_encoded == 19] = 21.19 # W\n",
    "    float_encoded[float_encoded == 20] = 22.55 # Y\n",
    "    float_encoded[float_encoded == 21] = 23.95 # V\n",
    "    float_encoded[float_encoded == 22] = 24.45 # X\n",
    "    float_encoded[float_encoded == 10] = 0.0 # anything else z\n",
    "    \n",
    "\n",
    "    return float_encoded"
   ]
  },
  {
   "cell_type": "code",
   "execution_count": 6,
   "metadata": {
    "scrolled": true
   },
   "outputs": [
    {
     "name": "stderr",
     "output_type": "stream",
     "text": [
      "<ipython-input-6-baf3a823859a>:15: VisibleDeprecationWarning: Creating an ndarray from ragged nested sequences (which is a list-or-tuple of lists-or-tuples-or ndarrays with different lengths or shapes) is deprecated. If you meant to do this, you must specify 'dtype=object' when creating the ndarray\n",
      "  X=np.array(X)\n"
     ]
    }
   ],
   "source": [
    "X=list(X_train)\n",
    "y=list(y_train)\n",
    "\n",
    "for i in X_test : \n",
    "    X.append(i)\n",
    "    \n",
    "for i in X_eval:\n",
    "    X.append(i)\n",
    "\n",
    "for i in y_test : \n",
    "    y.append(i)    \n",
    "    \n",
    "\n",
    "X=[np.array(ordinal_encoder(string_to_array(i))) for i in X]\n",
    "X=np.array(X)\n",
    "X=pad_sequences(X)\n",
    "\n",
    "X=X.reshape(X.shape[0],X.shape[1],1)\n",
    "y_train=np.array(y)\n"
   ]
  },
  {
   "cell_type": "code",
   "execution_count": 7,
   "metadata": {},
   "outputs": [],
   "source": [
    "X_train=X[0:2848]\n",
    "X_eval=X[2848:]"
   ]
  },
  {
   "cell_type": "code",
   "execution_count": 8,
   "metadata": {},
   "outputs": [
    {
     "data": {
      "text/plain": [
       "(708, 183, 1)"
      ]
     },
     "execution_count": 8,
     "metadata": {},
     "output_type": "execute_result"
    }
   ],
   "source": [
    "X_eval.shape"
   ]
  },
  {
   "cell_type": "code",
   "execution_count": 24,
   "metadata": {},
   "outputs": [],
   "source": [
    "ytrain_2 = keras.utils.to_categorical(y)\n",
    "y_eval_2 = keras.utils.to_categorical(y_eval)"
   ]
  },
  {
   "cell_type": "code",
   "execution_count": 28,
   "metadata": {
    "scrolled": true
   },
   "outputs": [
    {
     "data": {
      "text/plain": [
       "(708, 2)"
      ]
     },
     "execution_count": 28,
     "metadata": {},
     "output_type": "execute_result"
    }
   ],
   "source": [
    "y_eval_2.shape"
   ]
  },
  {
   "cell_type": "code",
   "execution_count": 29,
   "metadata": {},
   "outputs": [],
   "source": [
    "import keras\n",
    "\n",
    "NUM_CLASSES = 2\n",
    "\n",
    "# import necessary building blocks\n",
    "from keras.models import Sequential\n",
    "from keras.layers import Conv1D,  Flatten, Dense, Activation, Dropout,BatchNormalization,LSTM, MaxPool1D\n",
    "from keras.layers.advanced_activations import LeakyReLU"
   ]
  },
  {
   "cell_type": "code",
   "execution_count": 30,
   "metadata": {},
   "outputs": [],
   "source": [
    "def make_model():\n",
    "    \"\"\"\n",
    "    Define your model architecture here.\n",
    "    Returns `Sequential` model.\n",
    "    \"\"\"\n",
    "    model = Sequential()\n",
    "    \n",
    "    model.add(Conv1D(input_shape=X_train[0].shape,padding=\"same\",kernel_size=3,filters=16))\n",
    "    model.add(LSTM(100, return_sequences=True))\n",
    "    model.add(MaxPool1D())\n",
    "    model.add(LeakyReLU(0.1))\n",
    "    model.add(BatchNormalization())\n",
    "\n",
    "\n",
    "    \n",
    "    \n",
    "    model.add(Conv1D(padding=\"same\",kernel_size=3,filters=32))\n",
    "    model.add(LeakyReLU(0.1))\n",
    "    model.add(BatchNormalization())\n",
    "\n",
    "\n",
    "    model.add(Dropout(0.25))\n",
    "    model.add(Conv1D(padding=\"same\",kernel_size=3,filters=32))\n",
    "    model.add(MaxPool1D())\n",
    "    model.add(LeakyReLU(0.1))\n",
    "    model.add(BatchNormalization())\n",
    "\n",
    "    model.add(Conv1D(padding=\"same\",kernel_size=3,filters=64))\n",
    "    model.add(MaxPool1D())\n",
    "    model.add(LeakyReLU(0.1))\n",
    "    model.add(BatchNormalization())\n",
    "\n",
    "    model.add(Dropout(0.25))\n",
    "    model.add(Flatten())\n",
    "    \n",
    "    model.add(Dense(256))\n",
    "    model.add(LeakyReLU(0.1))\n",
    "    model.add(Dropout(0.5))\n",
    "    model.add(Dense(2))\n",
    "    model.add(LeakyReLU(0.1))\n",
    "    \n",
    "    model.add(Activation(\"softmax\"))\n",
    "    \n",
    "    return model\n",
    "\n"
   ]
  },
  {
   "cell_type": "code",
   "execution_count": 31,
   "metadata": {
    "scrolled": true
   },
   "outputs": [
    {
     "name": "stdout",
     "output_type": "stream",
     "text": [
      "Model: \"sequential\"\n",
      "_________________________________________________________________\n",
      "Layer (type)                 Output Shape              Param #   \n",
      "=================================================================\n",
      "conv1d (Conv1D)              (None, 183, 16)           64        \n",
      "_________________________________________________________________\n",
      "lstm (LSTM)                  (None, 183, 100)          46800     \n",
      "_________________________________________________________________\n",
      "max_pooling1d (MaxPooling1D) (None, 91, 100)           0         \n",
      "_________________________________________________________________\n",
      "leaky_re_lu (LeakyReLU)      (None, 91, 100)           0         \n",
      "_________________________________________________________________\n",
      "batch_normalization (BatchNo (None, 91, 100)           400       \n",
      "_________________________________________________________________\n",
      "conv1d_1 (Conv1D)            (None, 91, 32)            9632      \n",
      "_________________________________________________________________\n",
      "leaky_re_lu_1 (LeakyReLU)    (None, 91, 32)            0         \n",
      "_________________________________________________________________\n",
      "batch_normalization_1 (Batch (None, 91, 32)            128       \n",
      "_________________________________________________________________\n",
      "dropout (Dropout)            (None, 91, 32)            0         \n",
      "_________________________________________________________________\n",
      "conv1d_2 (Conv1D)            (None, 91, 32)            3104      \n",
      "_________________________________________________________________\n",
      "max_pooling1d_1 (MaxPooling1 (None, 45, 32)            0         \n",
      "_________________________________________________________________\n",
      "leaky_re_lu_2 (LeakyReLU)    (None, 45, 32)            0         \n",
      "_________________________________________________________________\n",
      "batch_normalization_2 (Batch (None, 45, 32)            128       \n",
      "_________________________________________________________________\n",
      "conv1d_3 (Conv1D)            (None, 45, 64)            6208      \n",
      "_________________________________________________________________\n",
      "max_pooling1d_2 (MaxPooling1 (None, 22, 64)            0         \n",
      "_________________________________________________________________\n",
      "leaky_re_lu_3 (LeakyReLU)    (None, 22, 64)            0         \n",
      "_________________________________________________________________\n",
      "batch_normalization_3 (Batch (None, 22, 64)            256       \n",
      "_________________________________________________________________\n",
      "dropout_1 (Dropout)          (None, 22, 64)            0         \n",
      "_________________________________________________________________\n",
      "flatten (Flatten)            (None, 1408)              0         \n",
      "_________________________________________________________________\n",
      "dense (Dense)                (None, 256)               360704    \n",
      "_________________________________________________________________\n",
      "leaky_re_lu_4 (LeakyReLU)    (None, 256)               0         \n",
      "_________________________________________________________________\n",
      "dropout_2 (Dropout)          (None, 256)               0         \n",
      "_________________________________________________________________\n",
      "dense_1 (Dense)              (None, 2)                 514       \n",
      "_________________________________________________________________\n",
      "leaky_re_lu_5 (LeakyReLU)    (None, 2)                 0         \n",
      "_________________________________________________________________\n",
      "activation (Activation)      (None, 2)                 0         \n",
      "=================================================================\n",
      "Total params: 427,938\n",
      "Trainable params: 427,482\n",
      "Non-trainable params: 456\n",
      "_________________________________________________________________\n"
     ]
    }
   ],
   "source": [
    "model = make_model()\n",
    "model.summary()"
   ]
  },
  {
   "cell_type": "code",
   "execution_count": 35,
   "metadata": {
    "scrolled": false
   },
   "outputs": [
    {
     "name": "stdout",
     "output_type": "stream",
     "text": [
      "Epoch 1/50\n",
      "89/89 [==============================] - 48s 357ms/step - loss: 0.7433 - accuracy: 0.5173 - val_loss: 0.6922 - val_accuracy: 0.5155\n",
      "Epoch 2/50\n",
      "89/89 [==============================] - 28s 313ms/step - loss: 0.6977 - accuracy: 0.5264 - val_loss: 0.6946 - val_accuracy: 0.5000\n",
      "Epoch 3/50\n",
      "89/89 [==============================] - 27s 302ms/step - loss: 0.6790 - accuracy: 0.5652 - val_loss: 0.7338 - val_accuracy: 0.5000\n",
      "Epoch 4/50\n",
      "89/89 [==============================] - 27s 301ms/step - loss: 0.6617 - accuracy: 0.5995 - val_loss: 0.7293 - val_accuracy: 0.5000\n",
      "Epoch 5/50\n",
      "89/89 [==============================] - 29s 323ms/step - loss: 0.6593 - accuracy: 0.6186 - val_loss: 0.7185 - val_accuracy: 0.5042\n",
      "Epoch 6/50\n",
      "89/89 [==============================] - 28s 315ms/step - loss: 0.6412 - accuracy: 0.6316 - val_loss: 0.6458 - val_accuracy: 0.6201\n",
      "Epoch 7/50\n",
      "89/89 [==============================] - 29s 331ms/step - loss: 0.6403 - accuracy: 0.6383 - val_loss: 0.8314 - val_accuracy: 0.5339\n",
      "Epoch 8/50\n",
      "89/89 [==============================] - 28s 314ms/step - loss: 0.6417 - accuracy: 0.6628 - val_loss: 0.6840 - val_accuracy: 0.6342\n",
      "Epoch 9/50\n",
      "89/89 [==============================] - 29s 330ms/step - loss: 0.6276 - accuracy: 0.6692 - val_loss: 0.6098 - val_accuracy: 0.6653\n",
      "Epoch 10/50\n",
      "89/89 [==============================] - 31s 348ms/step - loss: 0.6130 - accuracy: 0.6615 - val_loss: 0.6097 - val_accuracy: 0.6596\n",
      "Epoch 11/50\n",
      "89/89 [==============================] - 31s 344ms/step - loss: 0.5912 - accuracy: 0.6943 - val_loss: 0.6040 - val_accuracy: 0.6737\n",
      "Epoch 12/50\n",
      "89/89 [==============================] - 30s 336ms/step - loss: 0.5960 - accuracy: 0.6967 - val_loss: 0.5970 - val_accuracy: 0.6695\n",
      "Epoch 13/50\n",
      "89/89 [==============================] - 28s 312ms/step - loss: 0.5781 - accuracy: 0.7111 - val_loss: 0.6836 - val_accuracy: 0.6271\n",
      "Epoch 14/50\n",
      "89/89 [==============================] - 28s 309ms/step - loss: 0.5672 - accuracy: 0.7135 - val_loss: 0.6195 - val_accuracy: 0.6356\n",
      "Epoch 15/50\n",
      "89/89 [==============================] - 28s 314ms/step - loss: 0.5667 - accuracy: 0.7223 - val_loss: 0.5410 - val_accuracy: 0.7161\n",
      "Epoch 16/50\n",
      "89/89 [==============================] - 27s 306ms/step - loss: 0.5285 - accuracy: 0.7467 - val_loss: 0.4953 - val_accuracy: 0.7655\n",
      "Epoch 17/50\n",
      "89/89 [==============================] - 30s 335ms/step - loss: 0.5182 - accuracy: 0.7343 - val_loss: 0.4927 - val_accuracy: 0.7754\n",
      "Epoch 18/50\n",
      "89/89 [==============================] - 30s 335ms/step - loss: 0.4738 - accuracy: 0.7678 - val_loss: 0.5012 - val_accuracy: 0.7669\n",
      "Epoch 19/50\n",
      "89/89 [==============================] - 29s 330ms/step - loss: 0.4454 - accuracy: 0.7923 - val_loss: 0.5870 - val_accuracy: 0.6992\n",
      "Epoch 20/50\n",
      "89/89 [==============================] - 31s 348ms/step - loss: 0.4466 - accuracy: 0.8026 - val_loss: 0.5084 - val_accuracy: 0.7726\n",
      "Epoch 21/50\n",
      "89/89 [==============================] - 31s 346ms/step - loss: 0.4101 - accuracy: 0.8103 - val_loss: 0.6605 - val_accuracy: 0.7020\n",
      "Epoch 22/50\n",
      "89/89 [==============================] - 30s 343ms/step - loss: 0.4227 - accuracy: 0.8010 - val_loss: 0.5105 - val_accuracy: 0.7811\n",
      "Epoch 23/50\n",
      "89/89 [==============================] - 32s 361ms/step - loss: 0.3971 - accuracy: 0.8195 - val_loss: 0.4263 - val_accuracy: 0.8107\n",
      "Epoch 24/50\n",
      "89/89 [==============================] - 30s 338ms/step - loss: 0.3788 - accuracy: 0.8264 - val_loss: 0.4168 - val_accuracy: 0.8065\n",
      "Epoch 25/50\n",
      "89/89 [==============================] - 33s 366ms/step - loss: 0.3716 - accuracy: 0.8305 - val_loss: 0.4203 - val_accuracy: 0.8051\n",
      "Epoch 26/50\n",
      "89/89 [==============================] - 33s 372ms/step - loss: 0.3559 - accuracy: 0.8477 - val_loss: 0.4706 - val_accuracy: 0.8051\n",
      "Epoch 27/50\n",
      "89/89 [==============================] - 31s 347ms/step - loss: 0.3391 - accuracy: 0.8704 - val_loss: 0.4021 - val_accuracy: 0.8249\n",
      "Epoch 28/50\n",
      "89/89 [==============================] - 31s 343ms/step - loss: 0.3506 - accuracy: 0.8492 - val_loss: 0.8810 - val_accuracy: 0.6172\n",
      "Epoch 29/50\n",
      "89/89 [==============================] - 28s 318ms/step - loss: 0.3388 - accuracy: 0.8543 - val_loss: 0.6616 - val_accuracy: 0.7232\n",
      "Epoch 30/50\n",
      "89/89 [==============================] - 30s 334ms/step - loss: 0.3389 - accuracy: 0.8609 - val_loss: 0.4384 - val_accuracy: 0.8107\n",
      "Epoch 31/50\n",
      "89/89 [==============================] - 29s 325ms/step - loss: 0.2997 - accuracy: 0.8790 - val_loss: 0.4174 - val_accuracy: 0.8164\n",
      "Epoch 32/50\n",
      "89/89 [==============================] - 28s 315ms/step - loss: 0.2953 - accuracy: 0.8729 - val_loss: 0.4054 - val_accuracy: 0.8362\n",
      "Epoch 33/50\n",
      "89/89 [==============================] - 28s 320ms/step - loss: 0.3215 - accuracy: 0.8738 - val_loss: 0.3840 - val_accuracy: 0.8333\n",
      "Epoch 34/50\n",
      "89/89 [==============================] - 29s 324ms/step - loss: 0.2854 - accuracy: 0.8850 - val_loss: 0.3710 - val_accuracy: 0.8489\n",
      "Epoch 35/50\n",
      "89/89 [==============================] - 29s 321ms/step - loss: 0.2539 - accuracy: 0.8993 - val_loss: 0.3749 - val_accuracy: 0.8545\n",
      "Epoch 36/50\n",
      "89/89 [==============================] - 29s 327ms/step - loss: 0.2509 - accuracy: 0.8978 - val_loss: 0.4928 - val_accuracy: 0.8121\n",
      "Epoch 37/50\n",
      "89/89 [==============================] - 29s 321ms/step - loss: 0.2536 - accuracy: 0.9036 - val_loss: 0.4738 - val_accuracy: 0.8093\n",
      "Epoch 38/50\n",
      "89/89 [==============================] - 29s 325ms/step - loss: 0.2297 - accuracy: 0.9039 - val_loss: 0.4205 - val_accuracy: 0.8220\n",
      "Epoch 39/50\n",
      "89/89 [==============================] - 29s 321ms/step - loss: 0.2298 - accuracy: 0.9064 - val_loss: 0.4484 - val_accuracy: 0.8263\n",
      "Epoch 40/50\n",
      "89/89 [==============================] - 29s 328ms/step - loss: 0.2367 - accuracy: 0.8965 - val_loss: 0.5032 - val_accuracy: 0.8136\n",
      "Epoch 41/50\n",
      "89/89 [==============================] - 29s 324ms/step - loss: 0.2121 - accuracy: 0.9106 - val_loss: 1.1392 - val_accuracy: 0.6992\n",
      "Epoch 42/50\n",
      "89/89 [==============================] - 29s 321ms/step - loss: 0.2113 - accuracy: 0.9111 - val_loss: 0.7731 - val_accuracy: 0.7712\n",
      "Epoch 43/50\n",
      "89/89 [==============================] - 29s 328ms/step - loss: 0.2056 - accuracy: 0.9168 - val_loss: 0.4505 - val_accuracy: 0.8249\n",
      "Epoch 44/50\n",
      "89/89 [==============================] - 29s 327ms/step - loss: 0.1953 - accuracy: 0.9123 - val_loss: 0.5739 - val_accuracy: 0.8136\n",
      "Epoch 45/50\n",
      "89/89 [==============================] - 29s 328ms/step - loss: 0.1952 - accuracy: 0.9229 - val_loss: 0.5510 - val_accuracy: 0.8192\n",
      "Epoch 46/50\n",
      "89/89 [==============================] - 29s 329ms/step - loss: 0.1971 - accuracy: 0.9244 - val_loss: 0.5025 - val_accuracy: 0.8319\n",
      "Epoch 47/50\n",
      "89/89 [==============================] - 29s 330ms/step - loss: 0.1772 - accuracy: 0.9251 - val_loss: 0.5334 - val_accuracy: 0.8319\n",
      "Epoch 48/50\n",
      "89/89 [==============================] - 29s 330ms/step - loss: 0.1777 - accuracy: 0.9276 - val_loss: 0.6476 - val_accuracy: 0.7895\n",
      "Epoch 49/50\n",
      "89/89 [==============================] - 29s 325ms/step - loss: 0.2094 - accuracy: 0.9032 - val_loss: 0.5127 - val_accuracy: 0.8475\n",
      "Epoch 50/50\n",
      "89/89 [==============================] - 29s 326ms/step - loss: 0.1954 - accuracy: 0.9288 - val_loss: 0.4462 - val_accuracy: 0.8658\n"
     ]
    }
   ],
   "source": [
    "from keras import backend as K\n",
    "INIT_LR = 5e-3  # initial learning rate\n",
    "BATCH_SIZE = 32\n",
    "EPOCHS = 50\n",
    "\n",
    "\n",
    "# don't call K.set_learning_phase() !!! (otherwise will enable dropout in train/test simultaneously)\n",
    "model = make_model()  # define our model\n",
    "\n",
    "# prepare model for fitting (loss, optimizer, etc)\n",
    "model.compile(\n",
    "    loss='categorical_crossentropy',  # we train 2-way classification\n",
    "    optimizer=keras.optimizers.Adamax(lr=INIT_LR),  # for SGD\n",
    "    metrics=['accuracy']  # report accuracy during training\n",
    ")\n",
    "\n",
    "# fit model\n",
    "history = model.fit(\n",
    "    X_train, ytrain_2,  # prepared data\n",
    "    batch_size=BATCH_SIZE,\n",
    "    epochs=EPOCHS,\n",
    "    \n",
    "    validation_data=(X_eval, y_eval_2),\n",
    "    shuffle=True,\n",
    "    verbose=1\n",
    ")"
   ]
  },
  {
   "cell_type": "code",
   "execution_count": 36,
   "metadata": {
    "scrolled": true
   },
   "outputs": [
    {
     "data": {
      "image/png": "[encoded data removed]",
      "text/plain": [
       "<Figure size 432x288 with 1 Axes>"
      ]
     },
     "metadata": {
      "needs_background": "light"
     },
     "output_type": "display_data"
    }
   ],
   "source": [
    "import matplotlib.pyplot as plt\n",
    "plt.plot(history.history['accuracy'])\n",
    "plt.plot(history.history['val_accuracy'])\n",
    "plt.title('model accuracy')\n",
    "plt.ylabel('accuracy')\n",
    "plt.xlabel('epoch')\n",
    "plt.legend(['train', 'test'], loc='upper left')\n",
    "plt.show()"
   ]
  },
  {
   "cell_type": "code",
   "execution_count": 37,
   "metadata": {},
   "outputs": [],
   "source": [
    "test_predictions = model.predict(X_eval).argmax(axis=-1)"
   ]
  },
  {
   "cell_type": "code",
   "execution_count": 39,
   "metadata": {},
   "outputs": [],
   "source": [
    "test_answers = y_eval_2.argmax(axis=-1)"
   ]
  },
  {
   "cell_type": "code",
   "execution_count": 40,
   "metadata": {},
   "outputs": [],
   "source": [
    "test_accuracy = np.mean(test_predictions==test_answers)"
   ]
  },
  {
   "cell_type": "code",
   "execution_count": 41,
   "metadata": {
    "scrolled": true
   },
   "outputs": [
    {
     "name": "stdout",
     "output_type": "stream",
     "text": [
      "86.5819209039548%\n"
     ]
    }
   ],
   "source": [
    "print(str(test_accuracy*100)+\"%\")"
   ]
  },
  {
   "cell_type": "code",
   "execution_count": 41,
   "metadata": {},
   "outputs": [
    {
     "name": "stderr",
     "output_type": "stream",
     "text": [
      "<ipython-input-41-db5241423703>:15: VisibleDeprecationWarning: Creating an ndarray from ragged nested sequences (which is a list-or-tuple of lists-or-tuples-or ndarrays with different lengths or shapes) is deprecated. If you meant to do this, you must specify 'dtype=object' when creating the ndarray\n",
      "  X=np.array(X)\n"
     ]
    }
   ],
   "source": [
    "import sklearn\n",
    "from sklearn.decomposition import PCA\n",
    "\n",
    "X = list(X_train)\n",
    "\n",
    "for i in X_test : \n",
    "    X.append(i)\n",
    "    \n",
    "for i in X_eval:\n",
    "    X.append(i)\n",
    "\n",
    "\n",
    "\n",
    "X=[np.array(ordinal_encoder(string_to_array(i))) for i in X]\n",
    "X=np.array(X)\n",
    "X=pad_sequences(X)"
   ]
  },
  {
   "cell_type": "code",
   "execution_count": 42,
   "metadata": {},
   "outputs": [],
   "source": [
    "pca = PCA(n_components=2)\n",
    "pca.fit(X)\n",
    "X_pca = pca.transform(X)"
   ]
  },
  {
   "cell_type": "code",
   "execution_count": 44,
   "metadata": {},
   "outputs": [],
   "source": [
    "from sklearn.cluster import KMeans\n",
    "\n",
    "distortions = []\n",
    "K = range(1,10)\n",
    "for k in K:\n",
    "    kmeanModel = KMeans(n_clusters=k)\n",
    "    kmeanModel.fit(X_pca)\n",
    "    distortions.append(kmeanModel.inertia_)"
   ]
  },
  {
   "cell_type": "code",
   "execution_count": 46,
   "metadata": {},
   "outputs": [
    {
     "data": {
      "image/png": "[encoded data removed]",
      "text/plain": [
       "<Figure size 1152x576 with 1 Axes>"
      ]
     },
     "metadata": {
      "needs_background": "light"
     },
     "output_type": "display_data"
    }
   ],
   "source": [
    "import matplotlib.pyplot as plt\n",
    "plt.figure(figsize=(16,8))\n",
    "plt.plot(K, distortions, 'bx-')\n",
    "plt.xlabel('k')\n",
    "plt.ylabel('Distortion')\n",
    "plt.title('The Elbow Method showing the optimal k')\n",
    "plt.show()"
   ]
  },
  {
   "cell_type": "code",
   "execution_count": 53,
   "metadata": {},
   "outputs": [
    {
     "data": {
      "text/plain": [
       "<matplotlib.collections.PathCollection at 0x1534f06d0>"
      ]
     },
     "execution_count": 53,
     "metadata": {},
     "output_type": "execute_result"
    },
    {
     "data": {
      "image/png": "[encoded data removed]",
      "text/plain": [
       "<Figure size 432x288 with 1 Axes>"
      ]
     },
     "metadata": {
      "needs_background": "light"
     },
     "output_type": "display_data"
    }
   ],
   "source": [
    "kmeans = KMeans(n_clusters= 2)\n",
    "kmeans.fit(X_pca)\n",
    "plt.scatter(X[:,0],X[:,1], c=kmeans.labels_)"
   ]
  }
 ],
 "metadata": {
  "kernelspec": {
   "display_name": "Python 3",
   "language": "python",
   "name": "python3"
  },
  "language_info": {
   "codemirror_mode": {
    "name": "ipython",
    "version": 3
   },
   "file_extension": ".py",
   "mimetype": "text/x-python",
   "name": "python",
   "nbconvert_exporter": "python",
   "pygments_lexer": "ipython3",
   "version": "3.8.5"
  }
 },
 "nbformat": 4,
 "nbformat_minor": 2
}
