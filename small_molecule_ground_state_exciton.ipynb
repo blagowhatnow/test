{
 "cells": [
  {
   "cell_type": "code",
   "execution_count": null,
   "id": "acfa92f6",
   "metadata": {
    "scrolled": true
   },
   "outputs": [
    {
     "name": "stdout",
     "output_type": "stream",
     "text": [
      "\n",
      "  Memory set to   3.958 GiB by Python driver.\n",
      "  Threads set to 4 by Python driver.\n",
      "\n",
      "Scratch directory: /tmp/\n",
      "\n",
      "*** tstart() called on Bedabratas-MacBook-Air.local\n",
      "*** at Sat Jul  9 10:53:11 2022\n",
      "\n",
      "   => Loading Basis Set <=\n",
      "\n",
      "    Name: AUG-CC-PVDZ\n",
      "    Role: ORBITAL\n",
      "    Keyword: BASIS\n",
      "    atoms 1-8  entry ZN         line  2691 file /opt/miniconda3/share/psi4/basis/aug-cc-pvdz.gbs \n",
      "    atoms 9-28 entry SE         line  3217 file /opt/miniconda3/share/psi4/basis/aug-cc-pvdz.gbs \n",
      "\n",
      "\n",
      "         ---------------------------------------------------------\n",
      "                                   SCF\n",
      "               by Justin Turney, Rob Parrish, Andy Simmonett\n",
      "                          and Daniel G. A. Smith\n",
      "                              RKS Reference\n",
      "                        4 Threads,   4053 MiB Core\n",
      "         ---------------------------------------------------------\n",
      "\n",
      "  ==> Geometry <==\n",
      "\n",
      "    Molecular point group: c1\n",
      "    Full point group: C1\n",
      "\n",
      "    Geometry (in Angstrom), charge = 0, multiplicity = 1:\n",
      "\n",
      "       Center              X                  Y                   Z               Mass       \n",
      "    ------------   -----------------  -----------------  -----------------  -----------------\n",
      "         ZN          -4.368062230948    -2.521901880902    -1.783254001285    63.929142010000\n",
      "         ZN          -2.337838230948    -1.349751880902     1.532087998715    63.929142010000\n",
      "         ZN          -2.337838230948     0.994549119098    -1.783254001285    63.929142010000\n",
      "         ZN          -0.307614230948     2.166699119098     1.532087998715    63.929142010000\n",
      "         ZN          -0.307614230948    -2.521901880902    -1.783254001285    63.929142010000\n",
      "         ZN           1.722609769052    -1.349751880902     1.532087998715    63.929142010000\n",
      "         ZN           1.722609769052     0.994549119098    -1.783254001285    63.929142010000\n",
      "         ZN           3.752832769052     2.166699119098     1.532087998715    63.929142010000\n",
      "         SE           1.722609769052     0.994549119098     0.703251998715    79.916521800000\n",
      "         SE          -6.398286230948    -3.694051880902    -2.612089001285    79.916521800000\n",
      "         SE          -4.368062230948    -2.521901880902     0.703251998715    79.916521800000\n",
      "         SE          -4.368062230948    -0.177600880902    -2.612089001285    79.916521800000\n",
      "         SE          -2.337838230948    -3.694051880902    -2.612089001285    79.916521800000\n",
      "         SE          -2.337838230948    -1.349751880902     4.018593998715    79.916521800000\n",
      "         SE          -2.337838230948     0.994549119098     0.703251998715    79.916521800000\n",
      "         SE          -0.307614230948    -2.521901880902     0.703251998715    79.916521800000\n",
      "         SE          -2.337838230948     3.338849119098    -2.612089001285    79.916521800000\n",
      "         SE          -0.307614230948    -0.177600880902    -2.612089001285    79.916521800000\n",
      "         SE          -0.307614230948     2.166699119098     4.018593998715    79.916521800000\n",
      "         SE          -0.307614230948     4.511000119098     0.703251998715    79.916521800000\n",
      "         SE           1.722609769052    -3.694051880902    -2.612089001285    79.916521800000\n",
      "         SE           1.722609769052    -1.349751880902     4.018593998715    79.916521800000\n",
      "         SE           3.752832769052    -2.521901880902     0.703251998715    79.916521800000\n",
      "         SE           1.722609769052     3.338849119098    -2.612089001285    79.916521800000\n",
      "         SE           3.752832769052    -0.177600880902    -2.612089001285    79.916521800000\n",
      "         SE           3.752832769052     2.166699119098     4.018593998715    79.916521800000\n",
      "         SE           3.752832769052     4.511000119098     0.703251998715    79.916521800000\n",
      "         SE           5.783056769052     0.994549119098     0.703251998715    79.916521800000\n",
      "\n",
      "  Running in c1 symmetry.\n",
      "\n",
      "  Rotational constants: A =      0.00088  B =      0.00050  C =      0.00050 [cm^-1]\n",
      "  Rotational constants: A =     26.27139  B =     14.88253  C =     14.88253 [MHz]\n",
      "  Nuclear repulsion = 41059.343342374995700\n",
      "\n",
      "  Charge       = 0\n",
      "  Multiplicity = 1\n",
      "  Electrons    = 920\n",
      "  Nalpha       = 460\n",
      "  Nbeta        = 460\n",
      "\n",
      "  ==> Algorithm <==\n",
      "\n",
      "  SCF Algorithm Type is DF.\n",
      "  DIIS enabled.\n",
      "  MOM disabled.\n",
      "  Fractional occupation disabled.\n",
      "  Guess Type is SAD.\n",
      "  Energy threshold   = 1.00e-06\n",
      "  Density threshold  = 1.00e-06\n",
      "  Integral threshold = 1.00e-12\n",
      "\n",
      "  ==> Primary Basis <==\n",
      "\n",
      "  Basis Set: AUG-CC-PVDZ\n",
      "    Blend: AUG-CC-PVDZ\n",
      "    Number of shells: 432\n",
      "    Number of basis functions: 1192\n",
      "    Number of Cartesian functions: 1332\n",
      "    Spherical Harmonics?: true\n",
      "    Max angular momentum: 3\n",
      "\n",
      "  ==> DFT Potential <==\n",
      "\n",
      "   => LibXC <=\n",
      "\n",
      "    Version 5.1.5\n",
      "    S. Lehtola, C. Steigemann, M. J. Oliveira, and M. A. Marques, SoftwareX 7, 1 (2018) (10.1016/j.softx.2017.11.002)\n",
      "\n",
      "   => Composite Functional: B3LYP <= \n",
      "\n",
      "    B3LYP Hyb-GGA Exchange-Correlation Functional\n",
      "\n",
      "    P. J. Stephens, F. J. Devlin, C. F. Chabalowski, and M. J. Frisch, J. Phys. Chem. 98, 11623 (1994) (10.1021/j100096a001)\n",
      "\n",
      "    Deriv               =              1\n",
      "    GGA                 =           TRUE\n",
      "    Meta                =          FALSE\n",
      "\n",
      "    Exchange Hybrid     =           TRUE\n",
      "    MP2 Hybrid          =          FALSE\n",
      "\n",
      "   => Exchange Functionals <=\n",
      "\n",
      "    0.0800   Slater exchange\n",
      "    0.7200         Becke 88\n",
      "\n",
      "   => Exact (HF) Exchange <=\n",
      "\n",
      "    0.2000               HF \n",
      "\n",
      "   => Correlation Functionals <=\n",
      "\n",
      "    0.1900   Vosko, Wilk & Nusair (VWN5_RPA)\n",
      "    0.8100   Lee, Yang & Parr\n",
      "\n",
      "   => LibXC Density Thresholds  <==\n",
      "\n",
      "    XC_HYB_GGA_XC_B3LYP:  1.00E-15 \n",
      "\n",
      "   => Molecular Quadrature <=\n",
      "\n",
      "    Radial Scheme          =       TREUTLER\n",
      "    Pruning Scheme         =           NONE\n",
      "    Nuclear Scheme         =       TREUTLER\n",
      "\n",
      "    Blocking Scheme        =         OCTREE\n",
      "    BS radius alpha        =              1\n",
      "    Pruning alpha          =              1\n",
      "    Radial Points          =             75\n",
      "    Spherical Points       =            302\n",
      "    Total Points           =         560948\n",
      "    Total Blocks           =           4345\n",
      "    Max Points             =            256\n",
      "    Max Functions          =            913\n",
      "    Weights Tolerance      =       1.00E-15\n",
      "\n",
      "   => Loading Basis Set <=\n",
      "\n",
      "    Name: (AUG-CC-PVDZ AUX)\n",
      "    Role: JKFIT\n",
      "    Keyword: DF_BASIS_SCF\n",
      "    atoms 1-8  entry ZN         line  2482 file /opt/miniconda3/share/psi4/basis/def2-universal-jkfit.gbs \n",
      "    atoms 9-28 entry SE         line  1269 file /opt/miniconda3/share/psi4/basis/aug-cc-pvdz-jkfit.gbs \n",
      "\n"
     ]
    }
   ],
   "source": [
    "#Gas-phase calculations\n",
    "\n",
    "#Unit cell obtained from https://materialsproject.org/materials/mp-1190/ and structured Minimized in Avogadro\n",
    "\n",
    "import psi4\n",
    "\n",
    "psi4.set_memory(4250000000)\n",
    "psi4.set_num_threads(4)\n",
    "\n",
    "molecule = psi4.geometry(\"\"\" 0 1\n",
    "Zn    0.000000    0.000000    0.000000\n",
    "Zn    2.030224    1.172150    3.315342\n",
    "Zn    2.030224    3.516451    0.000000\n",
    "Zn    4.060448    4.688601    3.315342\n",
    "Zn    4.060448    0.000000    0.000000\n",
    "Zn    6.090672    1.172150    3.315342\n",
    "Zn    6.090672    3.516451    0.000000\n",
    "Zn    8.120895    4.688601    3.315342\n",
    "Se    6.090672    3.516451    2.486506\n",
    "Se   -2.030224   -1.172150   -0.828835\n",
    "Se    0.000000    0.000000    2.486506\n",
    "Se    0.000000    2.344301   -0.828835\n",
    "Se    2.030224   -1.172150   -0.828835\n",
    "Se    2.030224    1.172150    5.801848\n",
    "Se    2.030224    3.516451    2.486506\n",
    "Se    4.060448    0.000000    2.486506\n",
    "Se    2.030224    5.860751   -0.828835\n",
    "Se    4.060448    2.344301   -0.828835\n",
    "Se    4.060448    4.688601    5.801848\n",
    "Se    4.060448    7.032902    2.486506\n",
    "Se    6.090672   -1.172150   -0.828835\n",
    "Se    6.090672    1.172150    5.801848\n",
    "Se    8.120895    0.000000    2.486506\n",
    "Se    6.090672    5.860751   -0.828835\n",
    "Se    8.120895    2.344301   -0.828835\n",
    "Se    8.120895    4.688601    5.801848\n",
    "Se    8.120895    7.032902    2.486506\n",
    "Se   10.151119    3.516451    2.486506\n",
    "\"\"\", name= \"ZnSe Primitive Cell\")\n",
    "\n",
    "\n",
    "psi4.set_options({\n",
    " \"save_jk\" : True,\n",
    "})\n",
    "\n",
    "e, wfn = psi4.energy(\"B3LYP/aug-cc-pVDZ\", return_wfn=True, molecule=molecule)"
   ]
  },
  {
   "cell_type": "code",
   "execution_count": 7,
   "id": "a4c9412b",
   "metadata": {},
   "outputs": [
    {
     "name": "stdout",
     "output_type": "stream",
     "text": [
      "-0.05010635170539055 -0.007027220470652867 -2139.657324339805\n"
     ]
    }
   ],
   "source": [
    "HOMO = wfn.epsilon_a_subset('AO', 'ALL').np[wfn.nalpha()]\n",
    "LUMO = wfn.epsilon_a_subset('AO', 'ALL').np[wfn.nalpha() + 1]\n",
    "print(HOMO, LUMO, e)"
   ]
  },
  {
   "cell_type": "code",
   "execution_count": 8,
   "id": "982aedce",
   "metadata": {},
   "outputs": [
    {
     "name": "stdout",
     "output_type": "stream",
     "text": [
      "1.1722434716809411\n"
     ]
    }
   ],
   "source": [
    "band_gap=(LUMO-HOMO)*27.2114 \n",
    "\n",
    "print(band_gap)"
   ]
  },
  {
   "cell_type": "code",
   "execution_count": 114,
   "id": "c9528df9",
   "metadata": {},
   "outputs": [],
   "source": [
    "#Estimate nanoparticle volume and calculate radius of nanoparticle assuming it's enclosed in a sphere\n",
    "\n",
    "import deepchem\n",
    "import numpy as np\n",
    "\n",
    "#from https://github.com/deepchem/deepchem/blob/master/deepchem/utils/rdkit_utils.py\n",
    "\n",
    "import os\n",
    "import logging\n",
    "import itertools\n",
    "import numpy as np\n",
    "from io import StringIO\n",
    "from deepchem.utils.pdbqt_utils import pdbqt_to_pdb\n",
    "from deepchem.utils.pdbqt_utils import convert_mol_to_pdbqt\n",
    "from deepchem.utils.pdbqt_utils import convert_protein_to_pdbqt\n",
    "from deepchem.utils.geometry_utils import compute_pairwise_distances\n",
    "from deepchem.utils.geometry_utils import compute_centroid\n",
    "from deepchem.utils.fragment_utils import MolecularFragment\n",
    "from deepchem.utils.fragment_utils import MoleculeLoadException\n",
    "from typing import Any, List, Tuple, Set, Optional, Dict\n",
    "from deepchem.utils.typing import OneOrMany, RDKitMol\n",
    "\n",
    "logger = logging.getLogger(__name__)\n",
    "\n",
    "\n",
    "def get_xyz_from_mol(mol):\n",
    "  \"\"\"Extracts a numpy array of coordinates from a molecules.\n",
    "  Returns a `(N, 3)` numpy array of 3d coords of given rdkit molecule\n",
    "  Parameters\n",
    "  ----------\n",
    "  mol: rdkit Molecule\n",
    "    Molecule to extract coordinates for\n",
    "  Returns\n",
    "  -------\n",
    "  Numpy ndarray of shape `(N, 3)` where `N = mol.GetNumAtoms()`.\n",
    "  \"\"\"\n",
    "  xyz = np.zeros((mol.GetNumAtoms(), 3))\n",
    "  conf = mol.GetConformer()\n",
    "  for i in range(conf.GetNumAtoms()):\n",
    "    position = conf.GetAtomPosition(i)\n",
    "    xyz[i, 0] = position.x\n",
    "    xyz[i, 1] = position.y\n",
    "    xyz[i, 2] = position.z\n",
    "  return (xyz)\n",
    "\n",
    "import rdkit\n",
    "from rdkit import Chem\n",
    "\n",
    "\n",
    "#Crystal imported from Avogadro software and converted to mol file with OpenBabel\n",
    "\n",
    "m= Chem.MolFromMolFile('small_molecule.mol')\n",
    "\n",
    "coords= get_xyz_from_mol(m)\n",
    "\n",
    "from scipy.spatial import ConvexHull\n",
    "\n",
    "hull = ConvexHull(coords)\n",
    "\n",
    "\n",
    "cell_volume = hull.volume #This is in cubic Angstroms\n",
    "radius_0=(3/4*(cell_volume/np.pi))**(1/3)"
   ]
  },
  {
   "cell_type": "code",
   "execution_count": 116,
   "id": "866b26ca",
   "metadata": {},
   "outputs": [
    {
     "data": {
      "text/plain": [
       "3.2184048090163566"
      ]
     },
     "execution_count": 116,
     "metadata": {},
     "output_type": "execute_result"
    }
   ],
   "source": [
    "radius_0"
   ]
  },
  {
   "cell_type": "code",
   "execution_count": 47,
   "id": "b8cd75d9",
   "metadata": {},
   "outputs": [
    {
     "data": {
      "text/plain": [
       "Text(0, 0.5, 'Band-Gap(eV)')"
      ]
     },
     "execution_count": 47,
     "metadata": {},
     "output_type": "execute_result"
    },
    {
     "data": {
      "image/png": "[encoded data removed]",
      "text/plain": [
       "<Figure size 432x288 with 1 Axes>"
      ]
     },
     "metadata": {
      "needs_background": "light"
     },
     "output_type": "display_data"
    }
   ],
   "source": [
    "# From the paper Electron-electron and electron-hole interactions in small semiconductor crystallites : The size dependence of the lowest excited electronic state\n",
    "#Bamd gap/HOMO-LUMO gap varies as 1/R^2 with the nanoparticle radius\n",
    "\n",
    "#http://fizyka.umk.pl/~wj/EDU/Pracownia_Projektowa/brus.pdf\n",
    "\n",
    "\n",
    "def gap_as_a_function_of_radius(R):\n",
    "    \n",
    "    res=((band_gap)*(radius_0)**2)/(R**2)      #converting gap to electron volts\n",
    "    return res\n",
    "\n",
    "\n",
    "import matplotlib.pyplot as plt\n",
    "\n",
    "radii=np.arange(3,100)     #generating radii for particle sizes 10 nm to 100 nm\n",
    "gaps=[gap_as_a_function_of_radius(R) for R in radii]\n",
    "plt.plot(radii,gaps)\n",
    "plt.xlabel(\"Radii(nm)\")\n",
    "plt.ylabel(\"Band-Gap(eV)\")"
   ]
  },
  {
   "cell_type": "code",
   "execution_count": 48,
   "id": "f7b597d1",
   "metadata": {},
   "outputs": [
    {
     "data": {
      "text/plain": [
       "0.12142249702432294"
      ]
     },
     "execution_count": 48,
     "metadata": {},
     "output_type": "execute_result"
    }
   ],
   "source": [
    "gap_as_a_function_of_radius(10)"
   ]
  },
  {
   "cell_type": "code",
   "execution_count": 29,
   "id": "b7c56a2b",
   "metadata": {},
   "outputs": [],
   "source": [
    "from rdkit.Chem import Descriptors\n",
    "m=Chem.MolFromMolFile('small_molecule.mol')\n",
    "logp=Descriptors.MolLogP(m)"
   ]
  },
  {
   "cell_type": "code",
   "execution_count": 30,
   "id": "1b8cd8bd",
   "metadata": {},
   "outputs": [],
   "source": [
    "#Load Hydration Free Energy Model\n",
    "from rdkit.Chem import AllChem\n",
    "from rdkit.Chem import DataStructs\n",
    "import sklearn\n",
    "import joblib\n",
    "\n",
    "loaded_model = joblib.load('hydration_model_new.sav')\n",
    "\n",
    "X = []\n",
    "\n",
    "arr = np.zeros((0,))\n",
    "fp = AllChem.GetMorganFingerprintAsBitVect(m, 2)\n",
    "DataStructs.ConvertToNumpyArray(fp, arr)\n",
    "X.append(arr)\n",
    "\n",
    "HE=loaded_model.predict(X)[0]"
   ]
  },
  {
   "cell_type": "code",
   "execution_count": 41,
   "id": "bf955a73",
   "metadata": {},
   "outputs": [],
   "source": [
    "#Eqtn 5 https://arpgweb.com/pdf-files/ajc3(8)72-77.pdf\n",
    "\n",
    "dielectric_constant_solute = 6.920*logp+(-284.010)*LUMO+ (-3.184)*HE+(107.910)*HOMO+ ( -3.748)*dipole"
   ]
  },
  {
   "cell_type": "code",
   "execution_count": 42,
   "id": "a9525595",
   "metadata": {},
   "outputs": [
    {
     "data": {
      "text/plain": [
       "6.230092495057949"
      ]
     },
     "execution_count": 42,
     "metadata": {},
     "output_type": "execute_result"
    }
   ],
   "source": [
    "dielectric_constant_solute"
   ]
  },
  {
   "cell_type": "code",
   "execution_count": 43,
   "id": "781d8fe5",
   "metadata": {},
   "outputs": [],
   "source": [
    "#Calculate ground-state exciton energy as a function of nanoparticle radii\n",
    "\n",
    "def exciton_energy(R):\n",
    "    coulomb_interaction=(1.8*1.60217663/(R*(dielectric_constant_solute)))                \n",
    "    coul_ev=(coulomb_interaction)\n",
    "    res=gap_as_a_function_of_radius(R)-coul_ev\n",
    "    return res"
   ]
  },
  {
   "cell_type": "code",
   "execution_count": 49,
   "id": "81b75f85",
   "metadata": {},
   "outputs": [
    {
     "data": {
      "text/plain": [
       "1.1948384214803234"
      ]
     },
     "execution_count": 49,
     "metadata": {},
     "output_type": "execute_result"
    }
   ],
   "source": [
    "exciton_energy(3)"
   ]
  },
  {
   "cell_type": "code",
   "execution_count": 46,
   "id": "dcffad86",
   "metadata": {
    "scrolled": true
   },
   "outputs": [
    {
     "data": {
      "text/plain": [
       "Text(0, 0.5, 'Exciton Energies(eV)')"
      ]
     },
     "execution_count": 46,
     "metadata": {},
     "output_type": "execute_result"
    },
    {
     "data": {
      "image/png": "[encoded data removed]",
      "text/plain": [
       "<Figure size 432x288 with 1 Axes>"
      ]
     },
     "metadata": {
      "needs_background": "light"
     },
     "output_type": "display_data"
    }
   ],
   "source": [
    "import matplotlib.pyplot as plt\n",
    "\n",
    "radii=np.arange(3,100)     #generating radii for particle sizes 10 nm to 100 nm\n",
    "gaps=[exciton_energy(R) for R in radii]\n",
    "plt.plot(radii,gaps)\n",
    "plt.xlabel(\"Radii(nm)\")\n",
    "plt.ylabel(\"Exciton Energies(eV)\")"
   ]
  },
  {
   "cell_type": "code",
   "execution_count": 51,
   "id": "51cd6b1e",
   "metadata": {
    "scrolled": false
   },
   "outputs": [
    {
     "data": {
      "text/plain": [
       "Text(0, 0.5, 'gap-exciton differences(eV)')"
      ]
     },
     "execution_count": 51,
     "metadata": {},
     "output_type": "execute_result"
    },
    {
     "data": {
      "image/png": "[encoded data removed]",
      "text/plain": [
       "<Figure size 432x288 with 1 Axes>"
      ]
     },
     "metadata": {
      "needs_background": "light"
     },
     "output_type": "display_data"
    }
   ],
   "source": [
    "import matplotlib.pyplot as plt\n",
    "\n",
    "radii=np.arange(3,100)     #generating radii for particle sizes 10 nm to 100 nm\n",
    "gaps=[gap_as_a_function_of_radius(R)-exciton_energy(R) for R in radii]\n",
    "plt.plot(radii,gaps)\n",
    "plt.xlabel(\"Radii(nm)\")\n",
    "plt.ylabel(\"gap-exciton differences(eV)\")"
   ]
  },
  {
   "cell_type": "code",
   "execution_count": 52,
   "id": "b91e9371",
   "metadata": {},
   "outputs": [
    {
     "name": "stderr",
     "output_type": "stream",
     "text": [
      "Note: The following floating-point exceptions are signalling: IEEE_DENORMAL\n"
     ]
    }
   ],
   "source": [
    "from rdkit import Chem\n",
    "from pygamess import Gamess\n",
    "from pygamess.utils import rdkit_optimize\n",
    "m= rdkit_optimize(\"C[C@@H]1ON[C@@H]([C@@H]2CCCC[C@@H]2Cl)[C@@H]1C(=O)N[C@@H]1C(=O)N2[C@@H](C(=O)O)C(C)(C)S[C@H]12\")\n",
    "g = Gamess(num_cores=1)\n",
    "g.pcm_type(\"water\")\n",
    "r = g.run(m)"
   ]
  },
  {
   "cell_type": "code",
   "execution_count": 53,
   "id": "85eb9ae7",
   "metadata": {},
   "outputs": [
    {
     "name": "stderr",
     "output_type": "stream",
     "text": [
      "Note: The following floating-point exceptions are signalling: IEEE_DENORMAL\n",
      "Note: The following floating-point exceptions are signalling: IEEE_DENORMAL\n",
      "Note: The following floating-point exceptions are signalling: IEEE_DENORMAL\n",
      "Note: The following floating-point exceptions are signalling: IEEE_DENORMAL\n"
     ]
    }
   ],
   "source": [
    "from pygamess import Gamess\n",
    "from pygamess.utils import rdkit_optimize\n",
    "m = rdkit_optimize(\"C[C@@H]1ON[C@@H]([C@@H]2CCCC[C@@H]2Cl)[C@@H]1C(=O)N[C@@H]1C(=O)N2[C@@H](C(=O)O)C(C)(C)S[C@H]12\")\n",
    "g = Gamess()\n",
    "r2 = g.run(m)"
   ]
  },
  {
   "cell_type": "code",
   "execution_count": 54,
   "id": "5d9bd875",
   "metadata": {},
   "outputs": [],
   "source": [
    "fraction_gas_phase=band_gap/((r2.LUMO-r2.HOMO)*27.2114)\n",
    "band_gap_solvated=fraction_gas_phase*((r.LUMO-r.HOMO)*27.2114)"
   ]
  },
  {
   "cell_type": "code",
   "execution_count": 55,
   "id": "8dbd7b56",
   "metadata": {},
   "outputs": [
    {
     "data": {
      "text/plain": [
       "5.190256775269617"
      ]
     },
     "execution_count": 55,
     "metadata": {},
     "output_type": "execute_result"
    }
   ],
   "source": [
    "fraction_gas_phase"
   ]
  },
  {
   "cell_type": "code",
   "execution_count": 56,
   "id": "f70a4d4b",
   "metadata": {},
   "outputs": [],
   "source": [
    "def gap_as_a_function_of_radius_solvated(R):\n",
    "    \n",
    "    res=((band_gap_solvated)*(radius_0)**2)/(R**2)      #converting gap to electron volts\n",
    "    return res"
   ]
  },
  {
   "cell_type": "code",
   "execution_count": 57,
   "id": "6df5a112",
   "metadata": {},
   "outputs": [
    {
     "data": {
      "text/plain": [
       "1.2028466907362623"
      ]
     },
     "execution_count": 57,
     "metadata": {},
     "output_type": "execute_result"
    }
   ],
   "source": [
    "gap_as_a_function_of_radius_solvated(3)"
   ]
  },
  {
   "cell_type": "code",
   "execution_count": 58,
   "id": "d9905910",
   "metadata": {},
   "outputs": [
    {
     "data": {
      "text/plain": [
       "Text(0, 0.5, 'Band-Gap(eV)')"
      ]
     },
     "execution_count": 58,
     "metadata": {},
     "output_type": "execute_result"
    },
    {
     "data": {
      "image/png": "[encoded data removed]",
      "text/plain": [
       "<Figure size 432x288 with 1 Axes>"
      ]
     },
     "metadata": {
      "needs_background": "light"
     },
     "output_type": "display_data"
    }
   ],
   "source": [
    "import matplotlib.pyplot as plt\n",
    "\n",
    "radii=np.arange(3,100)     #generating radii for particle sizes 10 nm to 100 nm\n",
    "gaps=[gap_as_a_function_of_radius_solvated(R) for R in radii]\n",
    "plt.plot(radii,gaps)\n",
    "plt.xlabel(\"Radii(nm)\")\n",
    "plt.ylabel(\"Band-Gap(eV)\")"
   ]
  },
  {
   "cell_type": "code",
   "execution_count": 64,
   "id": "6cfd6f42",
   "metadata": {},
   "outputs": [],
   "source": [
    "#Calculate ground-state exciton energy as a function of nanoparticle radii\n",
    "\n",
    "def exciton_energy_solvated(R):\n",
    "    coulomb_interaction=(1.8*1.60217663/(R*(dielectric_constant_solute)))                \n",
    "    coul_ev=(coulomb_interaction)\n",
    "    res=gap_as_a_function_of_radius_solvated(R)-coul_ev\n",
    "    return res"
   ]
  },
  {
   "cell_type": "code",
   "execution_count": 65,
   "id": "6a18f632",
   "metadata": {},
   "outputs": [
    {
     "data": {
      "text/plain": [
       "1.0485462563907753"
      ]
     },
     "execution_count": 65,
     "metadata": {},
     "output_type": "execute_result"
    }
   ],
   "source": [
    "exciton_energy_solvated(3)"
   ]
  },
  {
   "cell_type": "code",
   "execution_count": 66,
   "id": "a49d25a3",
   "metadata": {},
   "outputs": [
    {
     "data": {
      "text/plain": [
       "Text(0, 0.5, 'Exciton Energies_Solvated-Exciton_energies_gas_phase(eV)')"
      ]
     },
     "execution_count": 66,
     "metadata": {},
     "output_type": "execute_result"
    },
    {
     "data": {
      "image/png": "[encoded data removed]",
      "text/plain": [
       "<Figure size 432x288 with 1 Axes>"
      ]
     },
     "metadata": {
      "needs_background": "light"
     },
     "output_type": "display_data"
    }
   ],
   "source": [
    "import matplotlib.pyplot as plt\n",
    "\n",
    "radii=np.arange(3,100)     #generating radii for particle sizes 10 nm to 100 nm\n",
    "gaps=[exciton_energy_solvated(R)-exciton_energy(R) for R in radii]\n",
    "plt.plot(radii,gaps)\n",
    "plt.xlabel(\"Radii(nm)\")\n",
    "plt.ylabel(\"Exciton Energies_Solvated-Exciton_energies_gas_phase(eV)\")"
   ]
  }
 ],
 "metadata": {
  "kernelspec": {
   "display_name": "Python 3 (ipykernel)",
   "language": "python",
   "name": "python3"
  },
  "language_info": {
   "codemirror_mode": {
    "name": "ipython",
    "version": 3
   },
   "file_extension": ".py",
   "mimetype": "text/x-python",
   "name": "python",
   "nbconvert_exporter": "python",
   "pygments_lexer": "ipython3",
   "version": "3.9.12"
  }
 },
 "nbformat": 4,
 "nbformat_minor": 5
}
