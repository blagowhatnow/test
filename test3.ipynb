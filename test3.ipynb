{
 "cells": [
  {
   "cell_type": "code",
   "execution_count": 1,
   "metadata": {},
   "outputs": [],
   "source": [
    "import numpy as np\n",
    "import matplotlib.pyplot as plt\n",
    "import pandas as pd\n",
    "from sklearn.svm import SVR\n",
    "from sklearn.pipeline import make_pipeline\n",
    "from sklearn.preprocessing import StandardScaler"
   ]
  },
  {
   "cell_type": "code",
   "execution_count": 2,
   "metadata": {},
   "outputs": [],
   "source": [
    "df=pd.read_csv(\"LTC_USD_1MIN.csv\").iloc[::-1]"
   ]
  },
  {
   "cell_type": "code",
   "execution_count": 3,
   "metadata": {
    "scrolled": true
   },
   "outputs": [
    {
     "data": {
      "text/html": [
       "<div>\n",
       "<style scoped>\n",
       "    .dataframe tbody tr th:only-of-type {\n",
       "        vertical-align: middle;\n",
       "    }\n",
       "\n",
       "    .dataframe tbody tr th {\n",
       "        vertical-align: top;\n",
       "    }\n",
       "\n",
       "    .dataframe thead th {\n",
       "        text-align: right;\n",
       "    }\n",
       "</style>\n",
       "<table border=\"1\" class=\"dataframe\">\n",
       "  <thead>\n",
       "    <tr style=\"text-align: right;\">\n",
       "      <th></th>\n",
       "      <th>Unix Timestamp</th>\n",
       "      <th>Date</th>\n",
       "      <th>Open</th>\n",
       "      <th>High</th>\n",
       "      <th>Low</th>\n",
       "      <th>Close</th>\n",
       "      <th>Volume</th>\n",
       "    </tr>\n",
       "  </thead>\n",
       "  <tbody>\n",
       "    <tr>\n",
       "      <th>698547</th>\n",
       "      <td>1.544220e+12</td>\n",
       "      <td>07-12-2018 21.21</td>\n",
       "      <td>24.20</td>\n",
       "      <td>24.20</td>\n",
       "      <td>24.20</td>\n",
       "      <td>24.20</td>\n",
       "      <td>0.00000</td>\n",
       "    </tr>\n",
       "    <tr>\n",
       "      <th>698546</th>\n",
       "      <td>1.544220e+12</td>\n",
       "      <td>07-12-2018 21.22</td>\n",
       "      <td>24.20</td>\n",
       "      <td>24.20</td>\n",
       "      <td>24.20</td>\n",
       "      <td>24.20</td>\n",
       "      <td>0.00000</td>\n",
       "    </tr>\n",
       "    <tr>\n",
       "      <th>698545</th>\n",
       "      <td>1.544220e+12</td>\n",
       "      <td>07-12-2018 21.23</td>\n",
       "      <td>24.20</td>\n",
       "      <td>24.20</td>\n",
       "      <td>24.20</td>\n",
       "      <td>24.20</td>\n",
       "      <td>0.00000</td>\n",
       "    </tr>\n",
       "    <tr>\n",
       "      <th>698544</th>\n",
       "      <td>1.544220e+12</td>\n",
       "      <td>07-12-2018 21.24</td>\n",
       "      <td>24.20</td>\n",
       "      <td>24.20</td>\n",
       "      <td>24.20</td>\n",
       "      <td>24.20</td>\n",
       "      <td>0.00000</td>\n",
       "    </tr>\n",
       "    <tr>\n",
       "      <th>698543</th>\n",
       "      <td>1.544220e+12</td>\n",
       "      <td>07-12-2018 21.25</td>\n",
       "      <td>24.20</td>\n",
       "      <td>24.20</td>\n",
       "      <td>24.20</td>\n",
       "      <td>24.20</td>\n",
       "      <td>0.00000</td>\n",
       "    </tr>\n",
       "    <tr>\n",
       "      <th>...</th>\n",
       "      <td>...</td>\n",
       "      <td>...</td>\n",
       "      <td>...</td>\n",
       "      <td>...</td>\n",
       "      <td>...</td>\n",
       "      <td>...</td>\n",
       "      <td>...</td>\n",
       "    </tr>\n",
       "    <tr>\n",
       "      <th>4</th>\n",
       "      <td>1.589240e+12</td>\n",
       "      <td>11-05-2020 23.57</td>\n",
       "      <td>41.77</td>\n",
       "      <td>41.89</td>\n",
       "      <td>41.77</td>\n",
       "      <td>41.88</td>\n",
       "      <td>18.69000</td>\n",
       "    </tr>\n",
       "    <tr>\n",
       "      <th>3</th>\n",
       "      <td>1.589240e+12</td>\n",
       "      <td>11-05-2020 23.58</td>\n",
       "      <td>41.88</td>\n",
       "      <td>41.88</td>\n",
       "      <td>41.88</td>\n",
       "      <td>41.88</td>\n",
       "      <td>0.00000</td>\n",
       "    </tr>\n",
       "    <tr>\n",
       "      <th>2</th>\n",
       "      <td>1.589240e+12</td>\n",
       "      <td>11-05-2020 23.59</td>\n",
       "      <td>41.88</td>\n",
       "      <td>41.88</td>\n",
       "      <td>41.70</td>\n",
       "      <td>41.70</td>\n",
       "      <td>2.31472</td>\n",
       "    </tr>\n",
       "    <tr>\n",
       "      <th>1</th>\n",
       "      <td>1.589240e+12</td>\n",
       "      <td>12-05-2020 0.00</td>\n",
       "      <td>41.70</td>\n",
       "      <td>41.70</td>\n",
       "      <td>41.70</td>\n",
       "      <td>41.70</td>\n",
       "      <td>0.00000</td>\n",
       "    </tr>\n",
       "    <tr>\n",
       "      <th>0</th>\n",
       "      <td>1.589240e+12</td>\n",
       "      <td>12-05-2020 0.01</td>\n",
       "      <td>41.70</td>\n",
       "      <td>41.70</td>\n",
       "      <td>41.70</td>\n",
       "      <td>41.70</td>\n",
       "      <td>0.00000</td>\n",
       "    </tr>\n",
       "  </tbody>\n",
       "</table>\n",
       "<p>698548 rows × 7 columns</p>\n",
       "</div>"
      ],
      "text/plain": [
       "        Unix Timestamp              Date   Open   High    Low  Close    Volume\n",
       "698547    1.544220e+12  07-12-2018 21.21  24.20  24.20  24.20  24.20   0.00000\n",
       "698546    1.544220e+12  07-12-2018 21.22  24.20  24.20  24.20  24.20   0.00000\n",
       "698545    1.544220e+12  07-12-2018 21.23  24.20  24.20  24.20  24.20   0.00000\n",
       "698544    1.544220e+12  07-12-2018 21.24  24.20  24.20  24.20  24.20   0.00000\n",
       "698543    1.544220e+12  07-12-2018 21.25  24.20  24.20  24.20  24.20   0.00000\n",
       "...                ...               ...    ...    ...    ...    ...       ...\n",
       "4         1.589240e+12  11-05-2020 23.57  41.77  41.89  41.77  41.88  18.69000\n",
       "3         1.589240e+12  11-05-2020 23.58  41.88  41.88  41.88  41.88   0.00000\n",
       "2         1.589240e+12  11-05-2020 23.59  41.88  41.88  41.70  41.70   2.31472\n",
       "1         1.589240e+12   12-05-2020 0.00  41.70  41.70  41.70  41.70   0.00000\n",
       "0         1.589240e+12   12-05-2020 0.01  41.70  41.70  41.70  41.70   0.00000\n",
       "\n",
       "[698548 rows x 7 columns]"
      ]
     },
     "execution_count": 3,
     "metadata": {},
     "output_type": "execute_result"
    }
   ],
   "source": [
    "df"
   ]
  },
  {
   "cell_type": "code",
   "execution_count": 4,
   "metadata": {
    "scrolled": true
   },
   "outputs": [
    {
     "data": {
      "text/plain": [
       "[<matplotlib.lines.Line2D at 0x10cbc6d60>]"
      ]
     },
     "execution_count": 4,
     "metadata": {},
     "output_type": "execute_result"
    },
    {
     "data": {
      "image/png": "[encoded data removed]",
      "text/plain": [
       "<Figure size 432x288 with 1 Axes>"
      ]
     },
     "metadata": {
      "needs_background": "light"
     },
     "output_type": "display_data"
    }
   ],
   "source": [
    "plt.plot(df[\"Close\"])"
   ]
  },
  {
   "cell_type": "code",
   "execution_count": 5,
   "metadata": {},
   "outputs": [],
   "source": [
    "yvals=np.array(df[\"Close\"])\n",
    "xvals=np.arange(0,yvals.shape[0])"
   ]
  },
  {
   "cell_type": "code",
   "execution_count": 6,
   "metadata": {},
   "outputs": [],
   "source": [
    "coins=50\n",
    "cash=10000"
   ]
  },
  {
   "cell_type": "code",
   "execution_count": 7,
   "metadata": {},
   "outputs": [],
   "source": [
    "preds=[]\n",
    "preds.append(yvals[0])\n",
    "preds.append(yvals[1])\n",
    "preds.append(yvals[2])\n",
    "preds.append(yvals[3])"
   ]
  },
  {
   "cell_type": "code",
   "execution_count": null,
   "metadata": {
    "scrolled": true
   },
   "outputs": [],
   "source": [
    "import warnings\n",
    "\n",
    "warnings.filterwarnings(\"ignore\")\n",
    "\n",
    "for i in np.arange(3,np.array(df[\"Close\"]).shape[0],1):\n",
    "    x_pairs=[]\n",
    "    y_pairs=[]\n",
    "    \n",
    "    x_pairs.append(xvals[i-3])\n",
    "    x_pairs.append(xvals[i-2])\n",
    "    x_pairs.append(xvals[i-1])\n",
    "    x_pairs.append(xvals[i])\n",
    "    \n",
    "    y_pairs.append(yvals[i-3])\n",
    "    y_pairs.append(yvals[i-2])\n",
    "    y_pairs.append(yvals[i-1])\n",
    "    y_pairs.append(xvals[i])\n",
    "    \n",
    "    x_pairs=np.array(x_pairs).reshape(-1,1)\n",
    "    y_pairs=np.array(y_pairs).reshape(-1,1)\n",
    "    \n",
    "    if i<np.array(df[\"Close\"]).shape[0]-1:\n",
    "        \n",
    "        regression = make_pipeline(StandardScaler(), SVR(C=1.0, epsilon=0.2))\n",
    "        \n",
    "        regression.fit(x_pairs, y_pairs)\n",
    "        \n",
    "        pred=regression.predict(np.array([xvals[i+1]]).reshape(-1,1))\n",
    "        \n",
    "        preds.append(pred)\n",
    "        \n",
    "        if pred-yvals[i]>0:\n",
    "            \n",
    "            if coins==50:\n",
    "                \n",
    "                pass\n",
    "            \n",
    "            else:\n",
    "                \n",
    "                coins=50\n",
    "                cash=cash-(50*yvals[i])\n",
    "        \n",
    "        else:\n",
    "            \n",
    "            if coins==50:\n",
    "                \n",
    "                coins=0\n",
    "                cash=cash+(50*yvals[i])\n",
    "                \n",
    "            else:\n",
    "                \n",
    "                pass\n",
    "                \n",
    "    else:\n",
    "        \n",
    "        pass"
   ]
  },
  {
   "cell_type": "code",
   "execution_count": null,
   "metadata": {},
   "outputs": [],
   "source": []
  }
 ],
 "metadata": {
  "kernelspec": {
   "display_name": "Python 3",
   "language": "python",
   "name": "python3"
  },
  "language_info": {
   "codemirror_mode": {
    "name": "ipython",
    "version": 3
   },
   "file_extension": ".py",
   "mimetype": "text/x-python",
   "name": "python",
   "nbconvert_exporter": "python",
   "pygments_lexer": "ipython3",
   "version": "3.8.5"
  }
 },
 "nbformat": 4,
 "nbformat_minor": 2
}
