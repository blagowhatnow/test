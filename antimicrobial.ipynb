{
 "cells": [
  {
   "cell_type": "code",
   "execution_count": 1,
   "metadata": {},
   "outputs": [],
   "source": [
    "#Classify antimicrobial peptides\n",
    "#Data and paper https://bmcbioinformatics.biomedcentral.com/articles/10.1186/s12859-019-3327-y\n",
    "\n",
    "import numpy as np\n",
    "import pandas as pd\n",
    "import keras\n",
    "from keras.preprocessing.sequence import pad_sequences"
   ]
  },
  {
   "cell_type": "code",
   "execution_count": 9,
   "metadata": {},
   "outputs": [],
   "source": [
    "from Bio import SeqIO\n",
    "import numpy as np \n",
    "\n",
    "positives_train=[]\n",
    "negatives_train=[]\n",
    "positives_test=[]\n",
    "negatives_test=[]\n",
    "\n",
    "for seq_record in SeqIO.parse('AMP.tr.fa', \"fasta\"):\n",
    "    \n",
    "    positives_train.append(str(seq_record.seq))\n",
    "    \n",
    "for seq_record in SeqIO.parse('DECOY.tr.fa', \"fasta\"):\n",
    "    \n",
    "    negatives_train.append(str(seq_record.seq))\n",
    "    \n",
    "for seq_record in SeqIO.parse('DECOY.te.fa', \"fasta\"):\n",
    "    \n",
    "    negatives_test.append(str(seq_record.seq)) \n",
    "    \n",
    "for seq_record in SeqIO.parse('AMP.te.fa', \"fasta\"):\n",
    "    \n",
    "    positives_test.append(str(seq_record.seq))\n",
    "    \n",
    "    \n",
    "X_train=list(positives_train+negatives_train)\n",
    "X_train=np.array(X_train)\n",
    "\n",
    "y_train=list(np.ones(np.array(positives_train).shape[0]))+list(np.zeros(np.array(negatives_train).shape[0]))\n",
    "y_train=np.array(y_train)\n",
    "\n",
    "X_test=list(positives_test+negatives_test)\n",
    "X_test=np.array(X_train)\n",
    "\n",
    "y_test=list(np.ones(np.array(positives_test).shape[0]))+list(np.zeros(np.array(negatives_test).shape[0]))\n",
    "y_test=np.array(y_train)\n",
    "    "
   ]
  },
  {
   "cell_type": "code",
   "execution_count": 10,
   "metadata": {},
   "outputs": [],
   "source": [
    "import numpy as np\n",
    "import re\n",
    "def string_to_array(my_string):\n",
    "    my_string = my_string.lower()\n",
    "    my_string = re.sub('[^arndcqeghilkmfpstwyvx]', 'z', my_string)\n",
    "    my_array = np.array(list(my_string))\n",
    "    return my_array\n",
    "\n",
    "# create a label encoder with alphabet\n",
    "from sklearn.preprocessing import LabelEncoder\n",
    "label_encoder = LabelEncoder()\n",
    "label_encoder.fit(np.array(['a','r','n','d','c','q','e','g','h','i','l','k','m','f','p','s','t','w','y','v','x','z']))\n",
    "\n",
    "def ordinal_encoder(my_array):\n",
    "    integer_encoded = label_encoder.transform(my_array)\n",
    "    float_encoded = integer_encoded.astype(float)\n",
    "    float_encoded[float_encoded == 0] = 1.25 # A\n",
    "    float_encoded[float_encoded == 1] = 2.50 # R\n",
    "    float_encoded[float_encoded == 2] = 3.75 # N\n",
    "    float_encoded[float_encoded == 3] = 4.30 # D\n",
    "    float_encoded[float_encoded == 4] = 5.45 # C\n",
    "    float_encoded[float_encoded == 5] = 6.35 # Q\n",
    "    float_encoded[float_encoded == 6] = 7.85 # E \n",
    "    float_encoded[float_encoded == 7] = 8.65 # G\n",
    "    float_encoded[float_encoded == 8] = 9.95 # H\n",
    "    float_encoded[float_encoded == 9] = 11.25 # I\n",
    "    float_encoded[float_encoded == 10] = 12.55 # L\n",
    "    float_encoded[float_encoded == 11] = 13.15 # K\n",
    "    float_encoded[float_encoded == 12] = 14.11 # L\n",
    "    float_encoded[float_encoded == 13] = 15.29 # K\n",
    "    float_encoded[float_encoded == 14] = 16.39 # M\n",
    "    float_encoded[float_encoded == 15] = 17.05 # F\n",
    "    float_encoded[float_encoded == 16] = 18.09 # P\n",
    "    float_encoded[float_encoded == 17] = 19.49 # S\n",
    "    float_encoded[float_encoded == 18] = 20.79 # T\n",
    "    float_encoded[float_encoded == 19] = 21.19 # W\n",
    "    float_encoded[float_encoded == 20] = 22.55 # Y\n",
    "    float_encoded[float_encoded == 21] = 23.95 # V\n",
    "    float_encoded[float_encoded == 22] = 24.45 # X\n",
    "    float_encoded[float_encoded == 10] = 0.0 # anything else z\n",
    "    \n",
    "\n",
    "    return float_encoded"
   ]
  },
  {
   "cell_type": "code",
   "execution_count": 11,
   "metadata": {
    "scrolled": false
   },
   "outputs": [],
   "source": [
    "X=list(X_train)\n",
    "for i in X_test : \n",
    "    X.append(i) \n",
    "\n",
    "X=[np.array(ordinal_encoder(string_to_array(i))) for i in X]\n",
    "X=np.array(X)\n",
    "X=pad_sequences(X)\n",
    "X=X.reshape(X.shape[0],X.shape[1],1)\n",
    "\n",
    "X_train=X[0:X_train.shape[0]]\n",
    "X_test=X[X_train.shape[0]:]"
   ]
  },
  {
   "cell_type": "code",
   "execution_count": 12,
   "metadata": {},
   "outputs": [],
   "source": [
    "y_train2 = keras.utils.to_categorical(y_train)\n",
    "y_test2 = keras.utils.to_categorical(y_test)"
   ]
  },
  {
   "cell_type": "code",
   "execution_count": 15,
   "metadata": {},
   "outputs": [],
   "source": [
    "import keras\n",
    "\n",
    "NUM_CLASSES = 2\n",
    "\n",
    "# import necessary building blocks\n",
    "from keras.models import Sequential\n",
    "from keras.layers import Conv1D,  Flatten, Dense, Activation, Dropout,BatchNormalization,LSTM, MaxPool1D\n",
    "from keras.layers.advanced_activations import LeakyReLU"
   ]
  },
  {
   "cell_type": "code",
   "execution_count": 16,
   "metadata": {},
   "outputs": [],
   "source": [
    "def make_model():\n",
    "    \"\"\"\n",
    "    Define your model architecture here.\n",
    "    Returns `Sequential` model.\n",
    "    \"\"\"\n",
    "    model = Sequential()\n",
    "    \n",
    "    model.add(Conv1D(input_shape=X_train[0].shape,padding=\"same\",kernel_size=3,filters=16))\n",
    "    model.add(LSTM(100, return_sequences=True))\n",
    "    model.add(MaxPool1D())\n",
    "    model.add(LeakyReLU(0.1))\n",
    "    model.add(BatchNormalization())\n",
    "    \n",
    "    \n",
    "    \n",
    "    model.add(Conv1D(padding=\"same\",kernel_size=3,filters=32))\n",
    "    model.add(LeakyReLU(0.1))\n",
    "    model.add(BatchNormalization())\n",
    "    \n",
    "\n",
    "    model.add(Dropout(0.25))\n",
    "    model.add(Conv1D(padding=\"same\",kernel_size=3,filters=32))\n",
    "    model.add(MaxPool1D())\n",
    "    model.add(LeakyReLU(0.1))\n",
    "    model.add(BatchNormalization())\n",
    "    \n",
    "    model.add(Conv1D(padding=\"same\",kernel_size=3,filters=64))\n",
    "    model.add(MaxPool1D())\n",
    "    model.add(LeakyReLU(0.1))\n",
    "    model.add(BatchNormalization())\n",
    "    \n",
    "    model.add(Dropout(0.25))\n",
    "    model.add(Flatten())\n",
    "    \n",
    "    model.add(Dense(256))\n",
    "    model.add(LeakyReLU(0.1))\n",
    "    model.add(Dropout(0.5))\n",
    "    model.add(Dense(NUM_CLASSES))\n",
    "    model.add(LeakyReLU(0.1))\n",
    "    \n",
    "    model.add(Activation(\"softmax\"))\n",
    "    \n",
    "    return model\n",
    "\n"
   ]
  },
  {
   "cell_type": "code",
   "execution_count": 17,
   "metadata": {},
   "outputs": [
    {
     "name": "stdout",
     "output_type": "stream",
     "text": [
      "Model: \"sequential\"\n",
      "_________________________________________________________________\n",
      "Layer (type)                 Output Shape              Param #   \n",
      "=================================================================\n",
      "conv1d (Conv1D)              (None, 158, 16)           64        \n",
      "_________________________________________________________________\n",
      "lstm (LSTM)                  (None, 158, 100)          46800     \n",
      "_________________________________________________________________\n",
      "max_pooling1d (MaxPooling1D) (None, 79, 100)           0         \n",
      "_________________________________________________________________\n",
      "leaky_re_lu (LeakyReLU)      (None, 79, 100)           0         \n",
      "_________________________________________________________________\n",
      "batch_normalization (BatchNo (None, 79, 100)           400       \n",
      "_________________________________________________________________\n",
      "conv1d_1 (Conv1D)            (None, 79, 32)            9632      \n",
      "_________________________________________________________________\n",
      "leaky_re_lu_1 (LeakyReLU)    (None, 79, 32)            0         \n",
      "_________________________________________________________________\n",
      "batch_normalization_1 (Batch (None, 79, 32)            128       \n",
      "_________________________________________________________________\n",
      "dropout (Dropout)            (None, 79, 32)            0         \n",
      "_________________________________________________________________\n",
      "conv1d_2 (Conv1D)            (None, 79, 32)            3104      \n",
      "_________________________________________________________________\n",
      "max_pooling1d_1 (MaxPooling1 (None, 39, 32)            0         \n",
      "_________________________________________________________________\n",
      "leaky_re_lu_2 (LeakyReLU)    (None, 39, 32)            0         \n",
      "_________________________________________________________________\n",
      "batch_normalization_2 (Batch (None, 39, 32)            128       \n",
      "_________________________________________________________________\n",
      "conv1d_3 (Conv1D)            (None, 39, 64)            6208      \n",
      "_________________________________________________________________\n",
      "max_pooling1d_2 (MaxPooling1 (None, 19, 64)            0         \n",
      "_________________________________________________________________\n",
      "leaky_re_lu_3 (LeakyReLU)    (None, 19, 64)            0         \n",
      "_________________________________________________________________\n",
      "batch_normalization_3 (Batch (None, 19, 64)            256       \n",
      "_________________________________________________________________\n",
      "dropout_1 (Dropout)          (None, 19, 64)            0         \n",
      "_________________________________________________________________\n",
      "flatten (Flatten)            (None, 1216)              0         \n",
      "_________________________________________________________________\n",
      "dense (Dense)                (None, 256)               311552    \n",
      "_________________________________________________________________\n",
      "leaky_re_lu_4 (LeakyReLU)    (None, 256)               0         \n",
      "_________________________________________________________________\n",
      "dropout_2 (Dropout)          (None, 256)               0         \n",
      "_________________________________________________________________\n",
      "dense_1 (Dense)              (None, 2)                 514       \n",
      "_________________________________________________________________\n",
      "leaky_re_lu_5 (LeakyReLU)    (None, 2)                 0         \n",
      "_________________________________________________________________\n",
      "activation (Activation)      (None, 2)                 0         \n",
      "=================================================================\n",
      "Total params: 378,786\n",
      "Trainable params: 378,330\n",
      "Non-trainable params: 456\n",
      "_________________________________________________________________\n"
     ]
    }
   ],
   "source": [
    "model = make_model()\n",
    "model.summary()"
   ]
  },
  {
   "cell_type": "code",
   "execution_count": 18,
   "metadata": {
    "scrolled": false
   },
   "outputs": [
    {
     "name": "stdout",
     "output_type": "stream",
     "text": [
      "Learning rate: 0.005\n",
      "Learning rate: 0.0045\n",
      "Learning rate: 0.00405\n",
      "Learning rate: 0.003645\n",
      "Learning rate: 0.0032805\n",
      "Learning rate: 0.00295245\n",
      "Learning rate: 0.002657205\n",
      "Learning rate: 0.0023914846\n",
      "Learning rate: 0.002152336\n",
      "Learning rate: 0.0019371024\n",
      "Learning rate: 0.0017433922\n",
      "Learning rate: 0.0015690529\n",
      "Learning rate: 0.0014121477\n",
      "Learning rate: 0.001270933\n",
      "Learning rate: 0.0011438397\n",
      "Learning rate: 0.0010294557\n",
      "Learning rate: 0.0009265101\n",
      "Learning rate: 0.0008338591\n",
      "Learning rate: 0.0007504732\n",
      "Learning rate: 0.00067542586\n",
      "Learning rate: 0.00060788327\n",
      "Learning rate: 0.00054709497\n",
      "Learning rate: 0.0004923855\n",
      "Learning rate: 0.0004431469\n",
      "Learning rate: 0.00039883223\n"
     ]
    },
    {
     "data": {
      "text/plain": [
       "<tensorflow.python.keras.callbacks.History at 0x1398feee0>"
      ]
     },
     "execution_count": 18,
     "metadata": {},
     "output_type": "execute_result"
    }
   ],
   "source": [
    "from keras import backend as K\n",
    "INIT_LR = 5e-3  # initial learning rate\n",
    "BATCH_SIZE = 32\n",
    "EPOCHS = 25\n",
    "\n",
    "\n",
    "# don't call K.set_learning_phase() !!! (otherwise will enable dropout in train/test simultaneously)\n",
    "model = make_model()  # define our model\n",
    "\n",
    "# prepare model for fitting (loss, optimizer, etc)\n",
    "model.compile(\n",
    "    loss='categorical_crossentropy',  # we train 2-way classification\n",
    "    optimizer=keras.optimizers.Adamax(lr=INIT_LR),  # for SGD\n",
    "    metrics=['accuracy']  # report accuracy during training\n",
    ")\n",
    "\n",
    "# scheduler of learning rate (decay with epochs)\n",
    "def lr_scheduler(epoch):\n",
    "    return INIT_LR * 0.9 ** epoch\n",
    "\n",
    "# callback for printing of actual learning rate used by optimizer\n",
    "class LrHistory(keras.callbacks.Callback):\n",
    "    def on_epoch_begin(self, epoch, logs={}):\n",
    "        print(\"Learning rate:\", K.get_value(model.optimizer.lr))\n",
    "\n",
    "# fit model\n",
    "model.fit(\n",
    "    X_train, y_train2,  # prepared data\n",
    "    batch_size=BATCH_SIZE,\n",
    "    epochs=EPOCHS,\n",
    "    callbacks=[keras.callbacks.LearningRateScheduler(lr_scheduler), LrHistory()],\n",
    "    validation_data=(X_test, y_test2),\n",
    "    shuffle=True,\n",
    "    verbose=0\n",
    ")"
   ]
  },
  {
   "cell_type": "code",
   "execution_count": 19,
   "metadata": {},
   "outputs": [],
   "source": [
    "test_predictions = model.predict(X_test).argmax(axis=-1)"
   ]
  },
  {
   "cell_type": "code",
   "execution_count": 20,
   "metadata": {},
   "outputs": [],
   "source": [
    "test_answers = y_test2.argmax(axis=-1)"
   ]
  },
  {
   "cell_type": "code",
   "execution_count": 21,
   "metadata": {},
   "outputs": [],
   "source": [
    "test_accuracy = np.mean(test_predictions==test_answers)"
   ]
  },
  {
   "cell_type": "code",
   "execution_count": 22,
   "metadata": {
    "scrolled": true
   },
   "outputs": [
    {
     "name": "stdout",
     "output_type": "stream",
     "text": [
      "72.54213483146067%\n"
     ]
    }
   ],
   "source": [
    "print(str(test_accuracy*100)+\"%\")"
   ]
  },
  {
   "cell_type": "code",
   "execution_count": 23,
   "metadata": {},
   "outputs": [],
   "source": [
    "#Design new ones using an LSTM\n",
    "#Using code from https://github.com/tadeaspaule/universal-name-generator"
   ]
  },
  {
   "cell_type": "code",
   "execution_count": 24,
   "metadata": {},
   "outputs": [],
   "source": [
    "from tensorflow.keras.layers import LSTM, Dense, Input, concatenate, Reshape, Dropout, Bidirectional\n",
    "from tensorflow.keras.models import Model, load_model"
   ]
  },
  {
   "cell_type": "code",
   "execution_count": 26,
   "metadata": {},
   "outputs": [],
   "source": [
    "from Bio import SeqIO\n",
    "import numpy as np \n",
    "\n",
    "positives_train=[]\n",
    "negatives_train=[]\n",
    "positives_test=[]\n",
    "negatives_test=[]\n",
    "\n",
    "for seq_record in SeqIO.parse('AMP.tr.fa', \"fasta\"):\n",
    "    \n",
    "    positives_train.append(str(seq_record.seq))\n",
    "    \n",
    "for seq_record in SeqIO.parse('DECOY.tr.fa', \"fasta\"):\n",
    "    \n",
    "    negatives_train.append(str(seq_record.seq))\n",
    "    \n",
    "for seq_record in SeqIO.parse('DECOY.te.fa', \"fasta\"):\n",
    "    \n",
    "    negatives_test.append(str(seq_record.seq)) \n",
    "    \n",
    "for seq_record in SeqIO.parse('AMP.te.fa', \"fasta\"):\n",
    "    \n",
    "    positives_test.append(str(seq_record.seq))\n",
    "\n",
    "def cnct(list1,list2):\n",
    "    newlist = []\n",
    "    a1 = len(list1)\n",
    "    a2 = len(list2)\n",
    "\n",
    "    for i in range(max(a1, a2)):\n",
    "        if i <= a1:\n",
    "            newlist.append(list1[i])\n",
    "        else:\n",
    "            newlist.append(list2[i])\n",
    "\n",
    "    return newlist    \n",
    "    \n",
    "X_train=cnct(positives_train,negatives_train)\n",
    "X_train=np.array(X_train)\n",
    "\n",
    "X_test=cnct(positives_test,negatives_test)\n",
    "X_test=np.array(X_test)\n",
    "\n",
    "X=list(X_train)\n",
    "for i in X_test : \n",
    "    X.append(i) "
   ]
  },
  {
   "cell_type": "code",
   "execution_count": 27,
   "metadata": {},
   "outputs": [
    {
     "name": "stdout",
     "output_type": "stream",
     "text": [
      "Total names: 1424\n",
      "Amount of names after removing those with unwanted characters\n",
      ": 1424\n",
      "Using the following characters:\n",
      " ['A', 'C', 'D', 'E', 'F', 'G', 'H', 'I', 'K', 'L', 'M', 'N', 'P', 'Q', 'R', 'S', 'T', 'V', 'W', 'Y']\n"
     ]
    }
   ],
   "source": [
    "def process_names(names,*,unwanted=[]):\n",
    "    names = [name for name in names]\n",
    "    print(\"Total names:\",len(names))\n",
    "    chars = sorted(list(set(''.join(names))))\n",
    "\n",
    "    def has_unwanted(word):\n",
    "        for char in word:\n",
    "            if char in unwanted:\n",
    "                return True\n",
    "        return False\n",
    "    names = [name for name in names if not has_unwanted(name)]\n",
    "    print(\"Amount of names after removing those with unwanted characters\\n:\",len(names))\n",
    "    chars = [char for char in chars if char not in unwanted]\n",
    "    print(\"Using the following characters:\\n\",chars)\n",
    "\n",
    "\n",
    "\n",
    "    return names,chars\n",
    "\n",
    "\n",
    "names,chars = process_names(X)"
   ]
  },
  {
   "cell_type": "code",
   "execution_count": 28,
   "metadata": {},
   "outputs": [
    {
     "name": "stdout",
     "output_type": "stream",
     "text": [
      "44507 sequences of length 4 made\n"
     ]
    }
   ],
   "source": [
    "def make_sequences(names,seqlen):\n",
    "    sequences, lengths, nextchars = [],[],[] # To have the model learn a more macro understanding, \n",
    "                                             # it also takes the word's length so far as input\n",
    "    for name in names:\n",
    "        if len(name) <= seqlen:\n",
    "            sequences.append(name + chars[-1]*(seqlen - len(name)))\n",
    "            nextchars.append(chars[-1])\n",
    "            lengths.append(len(name))\n",
    "        else:\n",
    "            for i in range(0,len(name)-seqlen+1):\n",
    "                sequences.append(name[i:i+seqlen])\n",
    "                if i+seqlen < len(name):\n",
    "                    nextchars.append(name[i+seqlen])\n",
    "                else:\n",
    "                    nextchars.append(chars[-1])\n",
    "                lengths.append(i+seqlen)\n",
    "\n",
    "    print(len(sequences),\"sequences of length\",seqlen,\"made\")\n",
    "    \n",
    "    return sequences,lengths,nextchars\n",
    "\n",
    "seqlen = 4\n",
    "sequences,lengths,nextchars = make_sequences(names,seqlen)"
   ]
  },
  {
   "cell_type": "code",
   "execution_count": 29,
   "metadata": {},
   "outputs": [],
   "source": [
    "def make_onehots(*,sequences,lengths,nextchars,chars):\n",
    "    x = np.zeros(shape=(len(sequences),len(sequences[0]),len(chars)), dtype='float32') # sequences\n",
    "    x2 = np.zeros(shape=(len(lengths),max(lengths))) # lengths\n",
    "\n",
    "    for i, seq in enumerate(sequences):\n",
    "        for j, char in enumerate(seq):\n",
    "            x[i,j,chars.index(char)] = 1.\n",
    "\n",
    "    for i, l in enumerate(lengths):\n",
    "        x2[i,l-1] = 1.\n",
    "\n",
    "    y = np.zeros(shape=(len(nextchars),len(chars)))\n",
    "    for i, char in enumerate(nextchars):\n",
    "        y[i,chars.index(char)] = 1.\n",
    "    \n",
    "    return x,x2,y\n",
    "\n",
    "x,x2,y = make_onehots(sequences=sequences,\n",
    "                     lengths=lengths,\n",
    "                     nextchars=nextchars,\n",
    "                     chars=chars)"
   ]
  },
  {
   "cell_type": "code",
   "execution_count": 30,
   "metadata": {},
   "outputs": [],
   "source": [
    "def get_dictchars(names,seqlen):\n",
    "    dictchars = [{} for _ in range(seqlen)]\n",
    "\n",
    "    for name in names:\n",
    "        if len(name) < seqlen:\n",
    "            continue\n",
    "        dictchars[0][name[0]] = dictchars[0].get(name[0],0) + 1\n",
    "        for i in range(1,seqlen):\n",
    "            if dictchars[i].get(name[i-1],0) == 0:\n",
    "                dictchars[i][name[i-1]] = {name[i]: 1}\n",
    "            elif dictchars[i][name[i-1]].get(name[i],0) == 0:\n",
    "                dictchars[i][name[i-1]][name[i]] = 1\n",
    "            else:\n",
    "                dictchars[i][name[i-1]][name[i]] += 1\n",
    "    return dictchars\n",
    "                \n",
    "dictchars = get_dictchars(names,seqlen)\n",
    "                \n",
    "\n",
    "def generate_start_seq(dictchars):\n",
    "    res = \"\" # The starting sequence will be stored here\n",
    "    p = sum([n for n in dictchars[0].values()]) # total amount of letter occurences\n",
    "    r = np.random.randint(0,p) # random number used to pick the next character\n",
    "    tot = 0\n",
    "    for key, item in dictchars[0].items():\n",
    "        if r >= tot and r < tot + item:\n",
    "            res += key\n",
    "            break\n",
    "        else:\n",
    "            tot += item\n",
    "\n",
    "    for i in range(1,len(dictchars)):\n",
    "        ch = res[-1]\n",
    "        if dictchars[i].get(ch,0) == 0:\n",
    "            l = list(dictchars[i].keys())\n",
    "            ch = l[np.random.randint(0,len(l))]\n",
    "        p = sum([n for n in dictchars[i][ch].values()])\n",
    "        r = np.random.randint(0,p)\n",
    "        tot = 0\n",
    "        for key, item in dictchars[i][ch].items():\n",
    "            if r >= tot and r < tot + item:\n",
    "                res += key\n",
    "                break\n",
    "            else:\n",
    "                tot += item\n",
    "    return res"
   ]
  },
  {
   "cell_type": "code",
   "execution_count": 31,
   "metadata": {},
   "outputs": [],
   "source": [
    "def sample(preds,temperature=0.4):\n",
    "    preds = np.asarray(preds).astype('float64')\n",
    "    if temperature == 0:\n",
    "        # Avoiding a division by 0 error\n",
    "        return np.argmax(preds)\n",
    "    preds = np.log(preds) / temperature\n",
    "    exp_preds = np.exp(preds)\n",
    "    preds = exp_preds / np.sum(exp_preds)\n",
    "    probas = np.random.multinomial(1,preds,1)\n",
    "    return np.argmax(probas)\n",
    "\n",
    "def generate_name(model,start,*,chars=chars,temperature=0.4):\n",
    "    maxlength = model.layers[3].input.shape[1]\n",
    "    seqlen = int(model.layers[0].input.shape[1])\n",
    "    result = start\n",
    "    \n",
    "    sequence_input = np.zeros(shape=(1,seqlen,len(chars)))\n",
    "    for i, char in enumerate(start):\n",
    "        sequence_input[0,i,chars.index(char)] = 1.\n",
    "    \n",
    "    length_input = np.zeros(shape=(1,maxlength))\n",
    "    length_input[0,len(result)-1] = 1.\n",
    "    \n",
    "    prediction = model.predict(x=[sequence_input,length_input])[0]\n",
    "    char_index = sample(prediction,temperature)\n",
    "    while char_index < len(chars)-1 and len(result) < maxlength:\n",
    "        result += chars[char_index]\n",
    "        \n",
    "        sequence_input = np.zeros(shape=(1,seqlen,len(chars)))\n",
    "        for i, char in enumerate(result[(-seqlen):]):\n",
    "            sequence_input[0,i,chars.index(char)] = 1.\n",
    "        \n",
    "        length_input[0,len(result)-2] = 0.\n",
    "        length_input[0,len(result)-1] = 1.\n",
    "        \n",
    "        prediction = model.predict(x=[sequence_input,length_input])[0]\n",
    "        char_index = sample(prediction,temperature)\n",
    "    \n",
    "    return result.title()\n",
    "\n",
    "def generate_random_name(model,*,chars=chars,dictchars=dictchars,temperature=0.4):\n",
    "    start = generate_start_seq(dictchars)\n",
    "    return generate_name(model,start,chars=chars,temperature=temperature)"
   ]
  },
  {
   "cell_type": "code",
   "execution_count": 32,
   "metadata": {
    "scrolled": true
   },
   "outputs": [],
   "source": [
    "def make_model(x,x2,chars):\n",
    "    inp1 = Input(shape=x.shape[1:]) # sequence input\n",
    "    inp2 = Input(shape=x2.shape[1:]) # length input\n",
    "    lstm = Bidirectional(LSTM(len(chars),activation='relu',dropout=0.3))(inp1)\n",
    "    lstm2 = Bidirectional(LSTM(len(chars),dropout=0.3,go_backwards=True))(inp1)\n",
    "    concat = concatenate([lstm,lstm2,inp2])\n",
    "    dense = Dense(len(chars),activation='softmax')(concat)\n",
    "\n",
    "    model = Model([inp1,inp2],dense)\n",
    "    model.compile(optimizer='adam',loss='binary_crossentropy')\n",
    "    return model\n",
    "\n",
    "model = make_model(x,x2,chars)"
   ]
  },
  {
   "cell_type": "code",
   "execution_count": 33,
   "metadata": {},
   "outputs": [],
   "source": [
    "#trying only for 3 epochs. Increase number of epochs for better results and more sequences.\n",
    "generated=[]\n",
    "\n",
    "def try_model(model,*,x=x,x2=x2,y=y,chars=chars,dictchars=dictchars,total_epochs=3,print_every=1,temperature=0.4,verbose=True):\n",
    "    for i in range(total_epochs//print_every):\n",
    "        history = model.fit([x,x2],y,\n",
    "                            epochs=print_every,\n",
    "                            batch_size=64,\n",
    "                            validation_split=0.05,\n",
    "                            verbose=0)\n",
    "\n",
    "        generated.append((generate_random_name(model,chars=chars,dictchars=dictchars,temperature=temperature)).upper())\n",
    "    "
   ]
  },
  {
   "cell_type": "code",
   "execution_count": 34,
   "metadata": {
    "scrolled": true
   },
   "outputs": [],
   "source": [
    "try_model(model)"
   ]
  },
  {
   "cell_type": "code",
   "execution_count": 35,
   "metadata": {
    "scrolled": false
   },
   "outputs": [
    {
     "data": {
      "text/plain": [
       "['CIMSGL', 'INWGSFKAKLGAKLKV', 'MRWQGRKTVCKTK']"
      ]
     },
     "execution_count": 35,
     "metadata": {},
     "output_type": "execute_result"
    }
   ],
   "source": [
    "generated"
   ]
  }
 ],
 "metadata": {
  "kernelspec": {
   "display_name": "Python 3",
   "language": "python",
   "name": "python3"
  },
  "language_info": {
   "codemirror_mode": {
    "name": "ipython",
    "version": 3
   },
   "file_extension": ".py",
   "mimetype": "text/x-python",
   "name": "python",
   "nbconvert_exporter": "python",
   "pygments_lexer": "ipython3",
   "version": "3.8.5"
  }
 },
 "nbformat": 4,
 "nbformat_minor": 2
}
