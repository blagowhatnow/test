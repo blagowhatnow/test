{
 "cells": [
  {
   "cell_type": "code",
   "execution_count": 294,
   "metadata": {
    "scrolled": true
   },
   "outputs": [],
   "source": [
    "import numpy as np\n",
    "import sdeint\n",
    "import matplotlib.pyplot as plt\n",
    "import warnings\n",
    "\n",
    "a = 1.0\n",
    "b = 0.9\n",
    "tspan = np.linspace(0.0, 5.0, 5002)\n",
    "x0 = 0.1\n",
    "\n",
    "def f(x, t):\n",
    "    return -(a + x*b**2)*(1 + a*x**2)\n",
    "\n",
    "def g(x, t):\n",
    "    return b*(1 - x**2)\n",
    "\n",
    "result = sdeint.itoint(f, g, x0, tspan)"
   ]
  },
  {
   "cell_type": "code",
   "execution_count": 295,
   "metadata": {
    "scrolled": true
   },
   "outputs": [
    {
     "data": {
      "text/plain": [
       "[<matplotlib.lines.Line2D at 0x129b23ac0>]"
      ]
     },
     "execution_count": 295,
     "metadata": {},
     "output_type": "execute_result"
    },
    {
     "data": {
      "image/png": "[encoded data removed]",
      "text/plain": [
       "<Figure size 432x288 with 1 Axes>"
      ]
     },
     "metadata": {},
     "output_type": "display_data"
    }
   ],
   "source": [
    "plt.plot(np.arange(0,np.array(result.shape[0])),result)"
   ]
  },
  {
   "cell_type": "code",
   "execution_count": 296,
   "metadata": {},
   "outputs": [],
   "source": [
    "import numpy as np\n",
    "import pandas as pd\n",
    "import matplotlib.pyplot as plt\n",
    "from sklearn.svm import SVR\n",
    "from sklearn.pipeline import make_pipeline\n",
    "from sklearn.preprocessing import StandardScaler"
   ]
  },
  {
   "cell_type": "code",
   "execution_count": 297,
   "metadata": {},
   "outputs": [],
   "source": [
    "score=0\n",
    "\n",
    "xvals=np.arange(0,np.array(result.shape[0]))\n",
    "yvals=result\n",
    "\n",
    "preds=[]\n",
    "\n",
    "num_points=5\n",
    "\n",
    "for i in range(0,num_points+1):\n",
    "    preds.append(xvals[i])"
   ]
  },
  {
   "cell_type": "code",
   "execution_count": 298,
   "metadata": {},
   "outputs": [],
   "source": [
    "for i in np.arange(num_points,np.array(xvals).shape[0],1):\n",
    "    x_pairs=[]\n",
    "    y_pairs=[]\n",
    "\n",
    "    for j in np.arange(0,num_points+1):\n",
    "        x_pairs.append(xvals[i-j])\n",
    "        y_pairs.append(yvals[i-j])\n",
    "    \n",
    "    x_pairs=np.array(x_pairs).reshape(-1,1)\n",
    "    y_pairs=np.array(y_pairs).reshape(-1,1)\n",
    "    \n",
    "    if i<np.array(xvals).shape[0]-1:\n",
    "        \n",
    "        regression = make_pipeline(StandardScaler(), SVR(C=1.0, epsilon=0.2))\n",
    "        \n",
    "        regression.fit(x_pairs, y_pairs)\n",
    "        \n",
    "        pred=regression.predict(np.array([xvals[i+1]]).reshape(-1,1))\n",
    "        \n",
    "        preds.append(pred)\n",
    "        \n",
    "        if np.sign(pred-yvals[i])==np.sign(yvals[i+1]-yvals[i]):\n",
    "            score=score+1\n",
    "        else:\n",
    "            score=score-1\n",
    "    else:\n",
    "        \n",
    "        pass"
   ]
  },
  {
   "cell_type": "code",
   "execution_count": 299,
   "metadata": {},
   "outputs": [
    {
     "data": {
      "text/plain": [
       "-108"
      ]
     },
     "execution_count": 299,
     "metadata": {},
     "output_type": "execute_result"
    }
   ],
   "source": [
    "score"
   ]
  }
 ],
 "metadata": {
  "kernelspec": {
   "display_name": "Python 3",
   "language": "python",
   "name": "python3"
  },
  "language_info": {
   "codemirror_mode": {
    "name": "ipython",
    "version": 3
   },
   "file_extension": ".py",
   "mimetype": "text/x-python",
   "name": "python",
   "nbconvert_exporter": "python",
   "pygments_lexer": "ipython3",
   "version": "3.8.5"
  }
 },
 "nbformat": 4,
 "nbformat_minor": 2
}
